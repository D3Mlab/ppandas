{
  "nbformat": 4,
  "nbformat_minor": 0,
  "metadata": {
    "colab": {
      "name": "Toronto Bike Lanes CoLab.ipynb",
      "provenance": [],
      "collapsed_sections": [
        "mc2xXILJMHOq",
        "4OP76_asOcT4",
        "t5nInhnROTmw"
      ]
    },
    "kernelspec": {
      "name": "python3",
      "display_name": "Python 3"
    }
  },
  "cells": [
    {
      "cell_type": "markdown",
      "metadata": {
        "id": "1bqfbr4JDpXM",
        "colab_type": "text"
      },
      "source": [
        "\n",
        "The direct colab link to this notebook is [here](https://colab.research.google.com/github/D3Mlab/ppandas/blob/master/experiments/Toronto_Bike_Lanes_CoLab.ipynb)."
      ]
    },
    {
      "cell_type": "markdown",
      "metadata": {
        "id": "cWBqX06jCyVE",
        "colab_type": "text"
      },
      "source": [
        "# Package Imports"
      ]
    },
    {
      "cell_type": "code",
      "metadata": {
        "id": "8hXeQ8RAG6-i",
        "colab_type": "code",
        "outputId": "1dbb394d-d1f8-4081-d10a-7ef21c28edc5",
        "colab": {
          "base_uri": "https://localhost:8080/",
          "height": 102
        }
      },
      "source": [
        "!pip install -i https://test.pypi.org/simple/ PPandas==0.0.1.6.9"
      ],
      "execution_count": 0,
      "outputs": [
        {
          "output_type": "stream",
          "text": [
            "Looking in indexes: https://test.pypi.org/simple/\n",
            "Collecting PPandas==0.0.1.6.9\n",
            "  Downloading https://test-files.pythonhosted.org/packages/38/4d/39a27346c88a4c7c76f12bf346f839b9037f86b0009ae516acd9322c562a/PPandas-0.0.1.6.9-py3-none-any.whl\n",
            "Installing collected packages: PPandas\n",
            "Successfully installed PPandas-0.0.1.6.9\n"
          ],
          "name": "stdout"
        }
      ]
    },
    {
      "cell_type": "code",
      "metadata": {
        "id": "apmW9IMnH0kF",
        "colab_type": "code",
        "outputId": "27a4c463-0dca-4c29-8f08-11bbc58f9cf8",
        "colab": {
          "base_uri": "https://localhost:8080/",
          "height": 867
        }
      },
      "source": [
        "!pip install pgmpy==0.1.9\n",
        "!pip install networkx==2.4\n",
        "!pip install matplotlib\n",
        "!pip install python-intervals\n",
        "!pip install geopandas\n",
        "!pip install geovoronoi"
      ],
      "execution_count": 0,
      "outputs": [
        {
          "output_type": "stream",
          "text": [
            "Collecting pgmpy==0.1.9\n",
            "\u001b[?25l  Downloading https://files.pythonhosted.org/packages/5a/b1/18dfdfcb10dcce71fd39f8c6801407e9aebd953939682558a5317e4a021c/pgmpy-0.1.9-py3-none-any.whl (331kB)\n",
            "\r\u001b[K     |█                               | 10kB 13.2MB/s eta 0:00:01\r\u001b[K     |██                              | 20kB 2.2MB/s eta 0:00:01\r\u001b[K     |███                             | 30kB 2.8MB/s eta 0:00:01\r\u001b[K     |████                            | 40kB 2.1MB/s eta 0:00:01\r\u001b[K     |█████                           | 51kB 2.3MB/s eta 0:00:01\r\u001b[K     |██████                          | 61kB 2.7MB/s eta 0:00:01\r\u001b[K     |███████                         | 71kB 2.9MB/s eta 0:00:01\r\u001b[K     |████████                        | 81kB 3.1MB/s eta 0:00:01\r\u001b[K     |█████████                       | 92kB 3.4MB/s eta 0:00:01\r\u001b[K     |█████████▉                      | 102kB 3.4MB/s eta 0:00:01\r\u001b[K     |██████████▉                     | 112kB 3.4MB/s eta 0:00:01\r\u001b[K     |███████████▉                    | 122kB 3.4MB/s eta 0:00:01\r\u001b[K     |████████████▉                   | 133kB 3.4MB/s eta 0:00:01\r\u001b[K     |█████████████▉                  | 143kB 3.4MB/s eta 0:00:01\r\u001b[K     |██████████████▉                 | 153kB 3.4MB/s eta 0:00:01\r\u001b[K     |███████████████▉                | 163kB 3.4MB/s eta 0:00:01\r\u001b[K     |████████████████▉               | 174kB 3.4MB/s eta 0:00:01\r\u001b[K     |█████████████████▉              | 184kB 3.4MB/s eta 0:00:01\r\u001b[K     |██████████████████▊             | 194kB 3.4MB/s eta 0:00:01\r\u001b[K     |███████████████████▊            | 204kB 3.4MB/s eta 0:00:01\r\u001b[K     |████████████████████▊           | 215kB 3.4MB/s eta 0:00:01\r\u001b[K     |█████████████████████▊          | 225kB 3.4MB/s eta 0:00:01\r\u001b[K     |██████████████████████▊         | 235kB 3.4MB/s eta 0:00:01\r\u001b[K     |███████████████████████▊        | 245kB 3.4MB/s eta 0:00:01\r\u001b[K     |████████████████████████▊       | 256kB 3.4MB/s eta 0:00:01\r\u001b[K     |█████████████████████████▊      | 266kB 3.4MB/s eta 0:00:01\r\u001b[K     |██████████████████████████▊     | 276kB 3.4MB/s eta 0:00:01\r\u001b[K     |███████████████████████████▋    | 286kB 3.4MB/s eta 0:00:01\r\u001b[K     |████████████████████████████▋   | 296kB 3.4MB/s eta 0:00:01\r\u001b[K     |█████████████████████████████▋  | 307kB 3.4MB/s eta 0:00:01\r\u001b[K     |██████████████████████████████▋ | 317kB 3.4MB/s eta 0:00:01\r\u001b[K     |███████████████████████████████▋| 327kB 3.4MB/s eta 0:00:01\r\u001b[K     |████████████████████████████████| 337kB 3.4MB/s \n",
            "\u001b[?25hInstalling collected packages: pgmpy\n",
            "Successfully installed pgmpy-0.1.9\n",
            "Requirement already satisfied: networkx==2.4 in /usr/local/lib/python3.6/dist-packages (2.4)\n",
            "Requirement already satisfied: decorator>=4.3.0 in /usr/local/lib/python3.6/dist-packages (from networkx==2.4) (4.4.2)\n",
            "Requirement already satisfied: matplotlib in /usr/local/lib/python3.6/dist-packages (3.2.1)\n",
            "Requirement already satisfied: cycler>=0.10 in /usr/local/lib/python3.6/dist-packages (from matplotlib) (0.10.0)\n",
            "Requirement already satisfied: numpy>=1.11 in /usr/local/lib/python3.6/dist-packages (from matplotlib) (1.18.3)\n",
            "Requirement already satisfied: pyparsing!=2.0.4,!=2.1.2,!=2.1.6,>=2.0.1 in /usr/local/lib/python3.6/dist-packages (from matplotlib) (2.4.7)\n",
            "Requirement already satisfied: kiwisolver>=1.0.1 in /usr/local/lib/python3.6/dist-packages (from matplotlib) (1.2.0)\n",
            "Requirement already satisfied: python-dateutil>=2.1 in /usr/local/lib/python3.6/dist-packages (from matplotlib) (2.8.1)\n",
            "Requirement already satisfied: six in /usr/local/lib/python3.6/dist-packages (from cycler>=0.10->matplotlib) (1.12.0)\n",
            "Collecting python-intervals\n",
            "  Downloading https://files.pythonhosted.org/packages/4e/51/b29570d4a820610be14d232aec77e6f0c66bca3d400f4903e98cc00012cb/python_intervals-1.10.0.post1-py2.py3-none-any.whl\n",
            "Installing collected packages: python-intervals\n",
            "Successfully installed python-intervals-1.10.0.post1\n",
            "Collecting geopandas\n",
            "\u001b[?25l  Downloading https://files.pythonhosted.org/packages/83/c5/3cf9cdc39a6f2552922f79915f36b45a95b71fd343cfc51170a5b6ddb6e8/geopandas-0.7.0-py2.py3-none-any.whl (928kB)\n",
            "\u001b[K     |████████████████████████████████| 931kB 3.3MB/s \n",
            "\u001b[?25hCollecting fiona\n",
            "\u001b[?25l  Downloading https://files.pythonhosted.org/packages/ec/20/4e63bc5c6e62df889297b382c3ccd4a7a488b00946aaaf81a118158c6f09/Fiona-1.8.13.post1-cp36-cp36m-manylinux1_x86_64.whl (14.7MB)\n",
            "\u001b[K     |████████████████████████████████| 14.7MB 255kB/s \n",
            "\u001b[?25hRequirement already satisfied: shapely in /usr/local/lib/python3.6/dist-packages (from geopandas) (1.7.0)\n",
            "Collecting pyproj>=2.2.0\n",
            "\u001b[?25l  Downloading https://files.pythonhosted.org/packages/e5/c3/071e080230ac4b6c64f1a2e2f9161c9737a2bc7b683d2c90b024825000c0/pyproj-2.6.1.post1-cp36-cp36m-manylinux2010_x86_64.whl (10.9MB)\n",
            "\u001b[K     |████████████████████████████████| 10.9MB 42.4MB/s \n",
            "\u001b[?25hRequirement already satisfied: pandas>=0.23.0 in /usr/local/lib/python3.6/dist-packages (from geopandas) (1.0.3)\n",
            "Requirement already satisfied: six>=1.7 in /usr/local/lib/python3.6/dist-packages (from fiona->geopandas) (1.12.0)\n",
            "Collecting munch\n",
            "  Downloading https://files.pythonhosted.org/packages/cc/ab/85d8da5c9a45e072301beb37ad7f833cd344e04c817d97e0cc75681d248f/munch-2.5.0-py2.py3-none-any.whl\n",
            "Requirement already satisfied: attrs>=17 in /usr/local/lib/python3.6/dist-packages (from fiona->geopandas) (19.3.0)\n",
            "Requirement already satisfied: click<8,>=4.0 in /usr/local/lib/python3.6/dist-packages (from fiona->geopandas) (7.1.2)\n",
            "Collecting cligj>=0.5\n",
            "  Downloading https://files.pythonhosted.org/packages/e4/be/30a58b4b0733850280d01f8bd132591b4668ed5c7046761098d665ac2174/cligj-0.5.0-py3-none-any.whl\n",
            "Collecting click-plugins>=1.0\n",
            "  Downloading https://files.pythonhosted.org/packages/e9/da/824b92d9942f4e472702488857914bdd50f73021efea15b4cad9aca8ecef/click_plugins-1.1.1-py2.py3-none-any.whl\n",
            "Requirement already satisfied: python-dateutil>=2.6.1 in /usr/local/lib/python3.6/dist-packages (from pandas>=0.23.0->geopandas) (2.8.1)\n",
            "Requirement already satisfied: numpy>=1.13.3 in /usr/local/lib/python3.6/dist-packages (from pandas>=0.23.0->geopandas) (1.18.3)\n",
            "Requirement already satisfied: pytz>=2017.2 in /usr/local/lib/python3.6/dist-packages (from pandas>=0.23.0->geopandas) (2018.9)\n",
            "Installing collected packages: munch, cligj, click-plugins, fiona, pyproj, geopandas\n",
            "Successfully installed click-plugins-1.1.1 cligj-0.5.0 fiona-1.8.13.post1 geopandas-0.7.0 munch-2.5.0 pyproj-2.6.1.post1\n",
            "Collecting geovoronoi\n",
            "  Downloading https://files.pythonhosted.org/packages/6e/f6/639bf479d77ab50733a958fab233c0d6cb94896f6b2d328127a11c6efa38/geovoronoi-0.2.0-py3-none-any.whl\n",
            "Requirement already satisfied: shapely>=1.7.0 in /usr/local/lib/python3.6/dist-packages (from geovoronoi) (1.7.0)\n",
            "Requirement already satisfied: numpy>=1.18.0 in /usr/local/lib/python3.6/dist-packages (from geovoronoi) (1.18.3)\n",
            "Requirement already satisfied: scipy>=1.4.0 in /usr/local/lib/python3.6/dist-packages (from geovoronoi) (1.4.1)\n",
            "Installing collected packages: geovoronoi\n",
            "Successfully installed geovoronoi-0.2.0\n"
          ],
          "name": "stdout"
        }
      ]
    },
    {
      "cell_type": "code",
      "metadata": {
        "id": "9WrJPzchH2x8",
        "colab_type": "code",
        "colab": {}
      },
      "source": [
        "import pandas as pd\n",
        "import numpy as np\n",
        "from ppandas import PDataFrame"
      ],
      "execution_count": 0,
      "outputs": []
    },
    {
      "cell_type": "markdown",
      "metadata": {
        "id": "sofvvGWOH5Vk",
        "colab_type": "text"
      },
      "source": [
        "# Data Processing"
      ]
    },
    {
      "cell_type": "markdown",
      "metadata": {
        "id": "mc2xXILJMHOq",
        "colab_type": "text"
      },
      "source": [
        "### Toronto Election Study (TES)"
      ]
    },
    {
      "cell_type": "markdown",
      "metadata": {
        "id": "CL-sVUSUC9eW",
        "colab_type": "text"
      },
      "source": [
        "Create a DataFrame using the TES dataset columns of age, ward, employment status, birthplace, and bike lane stance. The TES dataset can be found [here](http://www.torontoelectionstudy.com/data)."
      ]
    },
    {
      "cell_type": "code",
      "metadata": {
        "id": "xGXMvQJ2H9Rj",
        "colab_type": "code",
        "outputId": "54f7bec4-7e5c-4db6-ea13-a3d72a82d83b",
        "colab": {
          "base_uri": "https://localhost:8080/",
          "height": 204
        }
      },
      "source": [
        "TES_df  = pd.read_stata('Toronto+Election+Study.dta')[['AGE','CPS5','CPS64','CPS54','CPS36']]\n",
        "TES_df.head()"
      ],
      "execution_count": 0,
      "outputs": [
        {
          "output_type": "execute_result",
          "data": {
            "text/html": [
              "<div>\n",
              "<style scoped>\n",
              "    .dataframe tbody tr th:only-of-type {\n",
              "        vertical-align: middle;\n",
              "    }\n",
              "\n",
              "    .dataframe tbody tr th {\n",
              "        vertical-align: top;\n",
              "    }\n",
              "\n",
              "    .dataframe thead th {\n",
              "        text-align: right;\n",
              "    }\n",
              "</style>\n",
              "<table border=\"1\" class=\"dataframe\">\n",
              "  <thead>\n",
              "    <tr style=\"text-align: right;\">\n",
              "      <th></th>\n",
              "      <th>AGE</th>\n",
              "      <th>CPS5</th>\n",
              "      <th>CPS64</th>\n",
              "      <th>CPS54</th>\n",
              "      <th>CPS36</th>\n",
              "    </tr>\n",
              "  </thead>\n",
              "  <tbody>\n",
              "    <tr>\n",
              "      <th>0</th>\n",
              "      <td>68.0</td>\n",
              "      <td>Ward 23 Willowdale (Current Councillor: John F...</td>\n",
              "      <td>Retired</td>\n",
              "      <td>Yes</td>\n",
              "      <td>Oppose policies that will negatively affect dr...</td>\n",
              "    </tr>\n",
              "    <tr>\n",
              "      <th>1</th>\n",
              "      <td>65.0</td>\n",
              "      <td>Ward 13 Parkdale-High Park (Current Councillor...</td>\n",
              "      <td>Working for pay full-time</td>\n",
              "      <td>Yes</td>\n",
              "      <td>Create 200km of new bike lanes.</td>\n",
              "    </tr>\n",
              "    <tr>\n",
              "      <th>2</th>\n",
              "      <td>65.0</td>\n",
              "      <td>Ward 35 Scarborough Southwest (Current Council...</td>\n",
              "      <td>Retired</td>\n",
              "      <td>Yes</td>\n",
              "      <td>Create 200km of new bike lanes.</td>\n",
              "    </tr>\n",
              "    <tr>\n",
              "      <th>3</th>\n",
              "      <td>68.0</td>\n",
              "      <td>Ward 13 Parkdale-High Park (Current Councillor...</td>\n",
              "      <td>Working for pay part-time</td>\n",
              "      <td>No</td>\n",
              "      <td>Create 200km of new bike lanes.</td>\n",
              "    </tr>\n",
              "    <tr>\n",
              "      <th>4</th>\n",
              "      <td>49.0</td>\n",
              "      <td>Ward 9 York Centre (Current Councillor: Maria ...</td>\n",
              "      <td>Working for pay full-time</td>\n",
              "      <td>No</td>\n",
              "      <td>Oppose policies that will negatively affect dr...</td>\n",
              "    </tr>\n",
              "  </tbody>\n",
              "</table>\n",
              "</div>"
            ],
            "text/plain": [
              "    AGE  ...                                              CPS36\n",
              "0  68.0  ...  Oppose policies that will negatively affect dr...\n",
              "1  65.0  ...                    Create 200km of new bike lanes.\n",
              "2  65.0  ...                    Create 200km of new bike lanes.\n",
              "3  68.0  ...                    Create 200km of new bike lanes.\n",
              "4  49.0  ...  Oppose policies that will negatively affect dr...\n",
              "\n",
              "[5 rows x 5 columns]"
            ]
          },
          "metadata": {
            "tags": []
          },
          "execution_count": 4
        }
      ]
    },
    {
      "cell_type": "markdown",
      "metadata": {
        "id": "7n23AfmSDGnt",
        "colab_type": "text"
      },
      "source": [
        "*   Convert the Age attribute into bins: (17,23], (23,28),...,(63,114]\n",
        "*   Map values to reduce attribute cardinality and improve readability\n",
        "*   Rename DataFrame columns and convert them to type string"
      ]
    },
    {
      "cell_type": "code",
      "metadata": {
        "id": "3TN9jloiH6zd",
        "colab_type": "code",
        "colab": {}
      },
      "source": [
        "#Age\n",
        "age_values = [17,23,28,33,38,43,48,53,58,63,114]\n",
        "TES_df['AGE'] = pd.cut(TES_df['AGE'],age_values)\n",
        "TES_df.astype({'AGE': str})\n",
        "\n",
        "#Ward\n",
        "TES_df.CPS5 = TES_df['CPS5'].str.replace(r\"[\\D]\",'')\n",
        "TES_df.rename({'CPS5':'WARD44'},axis=1, inplace=True)\n",
        "TES_df = TES_df[TES_df['WARD44'] !='']\n",
        "\n",
        "#Employment status\n",
        "mapDict = {'Prefer not to say':'Other', 'Working for pay full-time':'Working for pay', 'Unemployed/Looking for work':'Unemployed', 'Working for pay part-time':'Working for pay', 'A student':'Student', 'None of the above':'Other', 'Retired':'Retired', 'Caring for a family full-time':'Family caring'}\n",
        "TES_df.CPS64=TES_df.CPS64.map(mapDict)\n",
        "TES_df.rename({'CPS64':'EMPLOYMENT'},axis=1, inplace=True)\n",
        "\n",
        "#Birthplace\n",
        "bornDict = {\"Prefer not to say/Don't know\": \"Unknown\", \"No\": \"Not Born in Canada\",\"Yes\":\"Born in Canada\"}\n",
        "TES_df.CPS54=TES_df.CPS54.map(bornDict)\n",
        "TES_df.rename({'CPS54':'BIRTHPLACE'},axis=1, inplace=True)\n",
        "\n",
        "#Bike lane stance\n",
        "mapDict = {'Create 200km of new bike lanes.':'Yes', 'Oppose policies that will negatively affect drivers.':'No', \"Don't know\":\"Not sure\"}\n",
        "TES_df.CPS36=TES_df.CPS36.map(mapDict)\n",
        "TES_df.rename({'CPS36':'BIKE'},axis=1, inplace=True)"
      ],
      "execution_count": 0,
      "outputs": []
    },
    {
      "cell_type": "markdown",
      "metadata": {
        "id": "4OP76_asOcT4",
        "colab_type": "text"
      },
      "source": [
        "### CBC Vote Compass (VC)"
      ]
    },
    {
      "cell_type": "markdown",
      "metadata": {
        "id": "bMKKPO0HDOsF",
        "colab_type": "text"
      },
      "source": [
        "Create a DataFrame using the VC dataset columns of age, ward, employment status, birthplace, and bike lane stance. The VC dataset is not publically available, but the tool used to generate the dataset is [here](https://www.cbc.ca/news2/interactives/votecompass/toronto2014.html)\n",
        "\n"
      ]
    },
    {
      "cell_type": "code",
      "metadata": {
        "id": "mOBY_vX2OqLH",
        "colab_type": "code",
        "outputId": "e1797b9c-c93c-4c4a-b1ae-346ea968aac2",
        "colab": {
          "base_uri": "https://localhost:8080/",
          "height": 204
        }
      },
      "source": [
        "VC_df = pd.read_csv(\"vc2014pca_recoded.csv\")[['birthyeargroup','ward44','occupation','foreignborn','q14bikelanes']]\n",
        "VC_df.head()"
      ],
      "execution_count": 0,
      "outputs": [
        {
          "output_type": "execute_result",
          "data": {
            "text/html": [
              "<div>\n",
              "<style scoped>\n",
              "    .dataframe tbody tr th:only-of-type {\n",
              "        vertical-align: middle;\n",
              "    }\n",
              "\n",
              "    .dataframe tbody tr th {\n",
              "        vertical-align: top;\n",
              "    }\n",
              "\n",
              "    .dataframe thead th {\n",
              "        text-align: right;\n",
              "    }\n",
              "</style>\n",
              "<table border=\"1\" class=\"dataframe\">\n",
              "  <thead>\n",
              "    <tr style=\"text-align: right;\">\n",
              "      <th></th>\n",
              "      <th>birthyeargroup</th>\n",
              "      <th>ward44</th>\n",
              "      <th>occupation</th>\n",
              "      <th>foreignborn</th>\n",
              "      <th>q14bikelanes</th>\n",
              "    </tr>\n",
              "  </thead>\n",
              "  <tbody>\n",
              "    <tr>\n",
              "      <th>0</th>\n",
              "      <td>(1970,1975]</td>\n",
              "      <td>1</td>\n",
              "      <td>Natural and applied sciences</td>\n",
              "      <td>0.0</td>\n",
              "      <td>5.0</td>\n",
              "    </tr>\n",
              "    <tr>\n",
              "      <th>1</th>\n",
              "      <td>(1985,1990]</td>\n",
              "      <td>1</td>\n",
              "      <td>Student (without other employment)</td>\n",
              "      <td>0.0</td>\n",
              "      <td>4.0</td>\n",
              "    </tr>\n",
              "    <tr>\n",
              "      <th>2</th>\n",
              "      <td>(1990,1997]</td>\n",
              "      <td>1</td>\n",
              "      <td>Student (without other employment)</td>\n",
              "      <td>0.0</td>\n",
              "      <td>4.0</td>\n",
              "    </tr>\n",
              "    <tr>\n",
              "      <th>3</th>\n",
              "      <td>(1985,1990]</td>\n",
              "      <td>1</td>\n",
              "      <td>Student (without other employment)</td>\n",
              "      <td>1.0</td>\n",
              "      <td>4.0</td>\n",
              "    </tr>\n",
              "    <tr>\n",
              "      <th>4</th>\n",
              "      <td>(1985,1990]</td>\n",
              "      <td>1</td>\n",
              "      <td>Management</td>\n",
              "      <td>NaN</td>\n",
              "      <td>4.0</td>\n",
              "    </tr>\n",
              "  </tbody>\n",
              "</table>\n",
              "</div>"
            ],
            "text/plain": [
              "  birthyeargroup  ward44  ... foreignborn  q14bikelanes\n",
              "0    (1970,1975]       1  ...         0.0           5.0\n",
              "1    (1985,1990]       1  ...         0.0           4.0\n",
              "2    (1990,1997]       1  ...         0.0           4.0\n",
              "3    (1985,1990]       1  ...         1.0           4.0\n",
              "4    (1985,1990]       1  ...         NaN           4.0\n",
              "\n",
              "[5 rows x 5 columns]"
            ]
          },
          "metadata": {
            "tags": []
          },
          "execution_count": 6
        }
      ]
    },
    {
      "cell_type": "markdown",
      "metadata": {
        "id": "0_arcDQJDekd",
        "colab_type": "text"
      },
      "source": [
        "*   Convert the Age attribute into bins: (16,23], (23,28),...,(63,114]\n",
        "*   Map values to reduce attribute cardinality and improve readability\n",
        "*   Rename DataFrame columns and convert them to type string"
      ]
    },
    {
      "cell_type": "code",
      "metadata": {
        "id": "Bm3o0NUpPLP2",
        "colab_type": "code",
        "colab": {}
      },
      "source": [
        "#Age\n",
        "mapAge = {'(1950,1955]':'(58,63]', '(1955,1960]':'(53,58]', '(1960,1965]':'(48,53]', \n",
        "           '(1965,1970]':'(43,48]','(1970,1975]':'(38,43]', '(1975,1980]':'(33,38]', \n",
        "           '(1980,1985]':'(28,33]', '(1985,1990]':'(23,28]','(1990,1997]':'(16,23]', \n",
        "           '[1900,1950]':'(63,104]', np.nan:'N/A'}\n",
        "VC_df.birthyeargroup = VC_df.birthyeargroup.map(mapAge)\n",
        "VC_df.rename({'birthyeargroup':'AGE'},axis=1,inplace=True)\n",
        "VC_df.dropna(subset=['AGE'],how='all')\n",
        "VC_df = VC_df[VC_df.AGE !='N/A']\n",
        "\n",
        "#Ward\n",
        "VC_df.rename({'ward44':'WARD44'},axis=1,inplace=True)\n",
        "\n",
        "#Employment status\n",
        "mapOcc={'Art, culture, recreation and sport':'Working for pay',\n",
        "        'Business, finance and administration':'Working for pay',\n",
        "        'Currently not searching for employment':'Unemployed',\n",
        "        'Currently searching for employment':'Unemployed',\n",
        "        'Education, law and social, community and government services':'Working for pay',\n",
        "        'Health':'Working for pay',\n",
        "        'Management':'Working for pay',\n",
        "        'Manufacturing and utilities':'Working for pay',\n",
        "        'Natural and applied sciences':'Working for pay',\n",
        "        'Natural resources, agriculture and related production':'Working for pay',\n",
        "        'Retired':'Retired',\n",
        "        'Sales and service':'Working for pay',\n",
        "        'Stay-at-home parent':'Family caring',\n",
        "        'Student (without other employment)':'Student',\n",
        "        'Trades, transport and equipment operators':'Working for pay',\n",
        "         np.nan:'Other'}\n",
        "VC_df.occupation = VC_df.occupation.map(mapOcc)\n",
        "VC_df.rename({'occupation':'EMPLOYMENT'},axis=1,inplace=True)\n",
        "\n",
        "#Birthplace\n",
        "foreign_dict = {0.0:'Born in Canada',1.0:'Not born in Canada',np.nan:'Unknown'}\n",
        "VC_df['foreignborn'] = VC_df.foreignborn.map(foreign_dict)\n",
        "VC_df.rename({'foreignborn':'BIRTHPLACE'},axis=1,inplace=True)\n",
        "\n",
        "#Bike lane stance\n",
        "mapDict = {1:'No', 2:'No', 3:'Not sure', 4:'Yes', np.nan:'Not sure', 5:'Yes'}\n",
        "VC_df.q14bikelanes = VC_df.q14bikelanes.map(mapDict)\n",
        "VC_df.rename({'q14bikelanes':'BIKE'},axis=1,inplace=True)"
      ],
      "execution_count": 0,
      "outputs": []
    },
    {
      "cell_type": "markdown",
      "metadata": {
        "id": "t5nInhnROTmw",
        "colab_type": "text"
      },
      "source": [
        "### Census"
      ]
    },
    {
      "cell_type": "markdown",
      "metadata": {
        "id": "HpyjD8edDniT",
        "colab_type": "text"
      },
      "source": [
        "Create two dataframes that contain Toronto's census population breakdown by Age bin and by Ward. This data can be found [here](https://open.toronto.ca/dataset/ward-profiles-2014-2018-wards/)"
      ]
    },
    {
      "cell_type": "code",
      "metadata": {
        "id": "P70dyEkmIDjz",
        "colab_type": "code",
        "outputId": "09bf56b3-c248-48ba-801f-8ae824b16882",
        "colab": {
          "base_uri": "https://localhost:8080/",
          "height": 986
        }
      },
      "source": [
        "age_marginal_df = pd.read_csv('census2011_age.csv')\n",
        "print(age_marginal_df)\n",
        "ward_marginal_df = pd.read_csv('census2011_ward.csv')\n",
        "print(ward_marginal_df)"
      ],
      "execution_count": 0,
      "outputs": [
        {
          "output_type": "stream",
          "text": [
            "         AGE  Unnamed: 1\n",
            "0    [17,19]    0.042431\n",
            "1    [20,24]    0.085112\n",
            "2    [25,29]    0.098280\n",
            "3    [30,34]    0.093321\n",
            "4    [35,39]    0.088327\n",
            "5    [40,44]    0.091572\n",
            "6    [45,49]    0.096310\n",
            "7    [50,54]    0.088740\n",
            "8    [55,59]    0.075400\n",
            "9    [60,64]    0.065394\n",
            "10  [65,114]    0.175115\n",
            "    WARD44  '2011 Census %\n",
            "0        1        0.023447\n",
            "1        2        0.021691\n",
            "2        3        0.019973\n",
            "3        4        0.020894\n",
            "4        5        0.024479\n",
            "5        6        0.022559\n",
            "6        7        0.019917\n",
            "7        8        0.019250\n",
            "8        9        0.017606\n",
            "9       10        0.024791\n",
            "10      11        0.023856\n",
            "11      12        0.020651\n",
            "12      13        0.020370\n",
            "13      14        0.020560\n",
            "14      15        0.023728\n",
            "15      16        0.020644\n",
            "16      17        0.019315\n",
            "17      18        0.017196\n",
            "18      19        0.021888\n",
            "19      20        0.029292\n",
            "20      21        0.018600\n",
            "21      22        0.025053\n",
            "22      23        0.033817\n",
            "23      24        0.023844\n",
            "24      25        0.022299\n",
            "25      26        0.024821\n",
            "26      27        0.030083\n",
            "27      28        0.025462\n",
            "28      29        0.017183\n",
            "29      30        0.020378\n",
            "30      31        0.020485\n",
            "31      32        0.021936\n",
            "32      33        0.021854\n",
            "33      34        0.022726\n",
            "34      35        0.023879\n",
            "35      36        0.020693\n",
            "36      37        0.024605\n",
            "37      38        0.025556\n",
            "38      39        0.021022\n",
            "39      40        0.023720\n",
            "40      41        0.026058\n",
            "41      42        0.029703\n",
            "42      43        0.021081\n",
            "43      44        0.023036\n"
          ],
          "name": "stdout"
        }
      ]
    },
    {
      "cell_type": "markdown",
      "metadata": {
        "id": "qEFx5rNdQRhE",
        "colab_type": "text"
      },
      "source": [
        "# ppandas Analysis"
      ]
    },
    {
      "cell_type": "markdown",
      "metadata": {
        "id": "hf_iTlA1D7OD",
        "colab_type": "text"
      },
      "source": [
        "Create TES and VC PDataFrames where the independent nodes of the Bayesian network are age, ward, employment status, and birthplace, and the dependent nodes are the ones not specified as independent nodes, which is bike lane stance"
      ]
    },
    {
      "cell_type": "code",
      "metadata": {
        "id": "k7asb3IjQWhc",
        "colab_type": "code",
        "outputId": "9ae25307-ca6b-47d6-8f2f-958ac41f54d5",
        "colab": {
          "base_uri": "https://localhost:8080/",
          "height": 655
        }
      },
      "source": [
        "indep_vars = ['AGE','BIRTHPLACE','EMPLOYMENT','WARD44']\n",
        "all_vars = indep_vars + ['BIKE']\n",
        "#Create TES PDataFrame\n",
        "TES_pdf = PDataFrame(independent_vars = indep_vars, data = TES_df[all_vars])\n",
        "TES_pdf.visualise()\n",
        "#Create VC PDataFrame\n",
        "VC_pdf = PDataFrame(indep_vars, VC_df[all_vars])\n",
        "VC_pdf.visualise()"
      ],
      "execution_count": 0,
      "outputs": [
        {
          "output_type": "stream",
          "text": [
            "/usr/local/lib/python3.6/dist-packages/statsmodels/tools/_testing.py:19: FutureWarning: pandas.util.testing is deprecated. Use the functions in the public API at pandas.testing instead.\n",
            "  import pandas.util.testing as tm\n"
          ],
          "name": "stderr"
        },
        {
          "output_type": "display_data",
          "data": {
            "image/png": "[encoded data removed]",
            "text/plain": [
              "<Figure size 432x288 with 1 Axes>"
            ]
          },
          "metadata": {
            "tags": []
          }
        },
        {
          "output_type": "display_data",
          "data": {
            "image/png": "[encoded data removed]",
            "text/plain": [
              "<Figure size 432x288 with 1 Axes>"
            ]
          },
          "metadata": {
            "tags": []
          }
        }
      ]
    },
    {
      "cell_type": "markdown",
      "metadata": {
        "id": "zIzQrICWEPE7",
        "colab_type": "text"
      },
      "source": [
        "Perform pjoin where the TES PDataFrame is the reference model and VC PDataFrame is the secondary model. Therefore the \"join_pdf\" PDataFrame uses the TES marginal distributions for the independent attributes and the conditional probability distribution (CPD) of P(Bike|Age,Ward,Employment,Birthplace) is based on the weighted average of both the TES and VC CPD."
      ]
    },
    {
      "cell_type": "code",
      "metadata": {
        "id": "DCOXPqc_Q2bw",
        "colab_type": "code",
        "colab": {}
      },
      "source": [
        "join_pdf = TES_pdf.pjoin(VC_pdf)"
      ],
      "execution_count": 0,
      "outputs": []
    },
    {
      "cell_type": "markdown",
      "metadata": {
        "id": "haTFDVzSFDbO",
        "colab_type": "text"
      },
      "source": [
        "Create PDataFrames using the Toronto Census Age and Ward DataFrames. Since these DataFrames are aggregate-level (each row is not an individual sample), use the \".from_populational_data\" method and provide the total number of participants in the census using the \"num_of_records\" argument."
      ]
    },
    {
      "cell_type": "code",
      "metadata": {
        "id": "z0Sy9S47ReMA",
        "colab_type": "code",
        "outputId": "2c8d7d98-1a27-46e1-e24c-78dfba828f7c",
        "colab": {
          "base_uri": "https://localhost:8080/",
          "height": 621
        }
      },
      "source": [
        "age_marginal_pdf = PDataFrame.from_populational_data([\"AGE\"],age_marginal_df,2615090)\n",
        "age_marginal_pdf.visualise()\n",
        "ward_marginal_pdf = PDataFrame.from_populational_data([\"WARD44\"],ward_marginal_df,2615090)\n",
        "ward_marginal_pdf.visualise()"
      ],
      "execution_count": 0,
      "outputs": [
        {
          "output_type": "display_data",
          "data": {
            "image/png": "[encoded data removed]",
            "text/plain": [
              "<Figure size 432x288 with 1 Axes>"
            ]
          },
          "metadata": {
            "tags": []
          }
        },
        {
          "output_type": "display_data",
          "data": {
            "image/png": "[encoded data removed]",
            "text/plain": [
              "<Figure size 432x288 with 1 Axes>"
            ]
          },
          "metadata": {
            "tags": []
          }
        }
      ]
    },
    {
      "cell_type": "markdown",
      "metadata": {
        "id": "8a0kPH-ZFJqA",
        "colab_type": "text"
      },
      "source": [
        "Then replace TES marginal distributions of Age and Ward with the census distributions by performing two pjoins. \n",
        "\n",
        "The first pjoin uses \"age_marginal_pdf\" as the reference model for the independent variable Age. Since there is numerical mismatch between how TES represents Age and how the census represents Age ([17,19],[20,24],...,[65,114]) the \"mismatches\" argument is used where a dictionary is passed. The dictionary key is the name of the variable exhibiting mismatch and the value is the type of mismatch. To handle this numerical mismatch, a cross product between the two Age representations is computed. Therefore the resulting join_pdf has the census's marginal distribution for Age, the TES's marginal distribution for Ward, and TES's conditional probability distribution P(Vote|Age, Ward,Employment, Birthplace).\n",
        "\n",
        "The second pjoin uses \"ward_marginal_pdf\" as the reference model for the independent variable Ward. Therefore the resulting join_pdf has the census's marginal distribution for Age and Ward and the TES's conditional probability distribution P(Vote|Age, Ward, Employment, Birthplace)."
      ]
    },
    {
      "cell_type": "code",
      "metadata": {
        "id": "b-qbgo31Re0h",
        "colab_type": "code",
        "outputId": "872b91ba-09b5-4140-bc22-cc7b52fa9ba5",
        "colab": {
          "base_uri": "https://localhost:8080/",
          "height": 319
        }
      },
      "source": [
        "#Replace TES marginal distributions of Age and Ward with census distributions\n",
        "join_pdf_census = age_marginal_pdf.pjoin(join_pdf,mismatches={\"AGE\":'numerical'})\n",
        "join_pdf_census = ward_marginal_pdf.pjoin(join_pdf_census)\n",
        "join_pdf_census.visualise()"
      ],
      "execution_count": 0,
      "outputs": [
        {
          "output_type": "display_data",
          "data": {
            "image/png": "[encoded data removed]",
            "text/plain": [
              "<Figure size 432x288 with 1 Axes>"
            ]
          },
          "metadata": {
            "tags": []
          }
        }
      ]
    },
    {
      "cell_type": "markdown",
      "metadata": {
        "id": "M35iyq44SteE",
        "colab_type": "text"
      },
      "source": [
        "#### Query Results"
      ]
    },
    {
      "cell_type": "markdown",
      "metadata": {
        "id": "QqRZJeF_i3w0",
        "colab_type": "text"
      },
      "source": [
        "Can compare the Toronto bike lane stance distributions under a variety of datasets and techniques."
      ]
    },
    {
      "cell_type": "code",
      "metadata": {
        "id": "Mun5_qTNTdDh",
        "colab_type": "code",
        "outputId": "478e452a-ff24-41f2-e95f-04a9d2325a63",
        "colab": {
          "base_uri": "https://localhost:8080/",
          "height": 85
        }
      },
      "source": [
        "# TES only\n",
        "print(TES_df['BIKE'].value_counts(normalize=True))"
      ],
      "execution_count": 0,
      "outputs": [
        {
          "output_type": "stream",
          "text": [
            "No          0.536585\n",
            "Yes         0.269686\n",
            "Not sure    0.193728\n",
            "Name: BIKE, dtype: float64\n"
          ],
          "name": "stdout"
        }
      ]
    },
    {
      "cell_type": "code",
      "metadata": {
        "id": "R3Q-bY3DTdRB",
        "colab_type": "code",
        "outputId": "438fbe7a-bab2-40df-a23e-7da6ca613f7d",
        "colab": {
          "base_uri": "https://localhost:8080/",
          "height": 85
        }
      },
      "source": [
        "# VC only\n",
        "print(VC_df['BIKE'].value_counts(normalize=True))"
      ],
      "execution_count": 0,
      "outputs": [
        {
          "output_type": "stream",
          "text": [
            "Yes         0.794838\n",
            "Not sure    0.142425\n",
            "No          0.062736\n",
            "Name: BIKE, dtype: float64\n"
          ],
          "name": "stdout"
        }
      ]
    },
    {
      "cell_type": "code",
      "metadata": {
        "id": "2-5RMNs-TYnz",
        "colab_type": "code",
        "outputId": "f821810a-8a54-48d7-e803-c7b2069e25e0",
        "colab": {
          "base_uri": "https://localhost:8080/",
          "height": 85
        }
      },
      "source": [
        "# Naively stack TES and VC\n",
        "naive_stack = pd.concat([TES_df.BIKE, VC_df.BIKE], axis=0, ignore_index=True)\n",
        "print(naive_stack.value_counts(normalize=True))"
      ],
      "execution_count": 0,
      "outputs": [
        {
          "output_type": "stream",
          "text": [
            "Yes         0.752927\n",
            "Not sure    0.146520\n",
            "No          0.100553\n",
            "Name: BIKE, dtype: float64\n"
          ],
          "name": "stdout"
        }
      ]
    },
    {
      "cell_type": "code",
      "metadata": {
        "id": "e1G4g8haTNUy",
        "colab_type": "code",
        "outputId": "184d4419-4cad-4116-d1d3-37955b099f39",
        "colab": {
          "base_uri": "https://localhost:8080/",
          "height": 85
        }
      },
      "source": [
        "# ppandas TES+VC\n",
        "queryResults= join_pdf.query(['BIKE'])\n",
        "print(queryResults)"
      ],
      "execution_count": 0,
      "outputs": [
        {
          "output_type": "stream",
          "text": [
            "       BIKE  Probability(BIKE)\n",
            "0        No           0.191544\n",
            "1  Not sure           0.216947\n",
            "2       Yes           0.591509\n"
          ],
          "name": "stdout"
        }
      ]
    },
    {
      "cell_type": "code",
      "metadata": {
        "id": "PVTgMrDrRnLR",
        "colab_type": "code",
        "outputId": "d620143a-aa84-47d3-9cf3-3be6ae9ea3c9",
        "colab": {
          "base_uri": "https://localhost:8080/",
          "height": 85
        }
      },
      "source": [
        "# ppandas TES+VC+Census\n",
        "queryResults = join_pdf_census.query(['BIKE'])\n",
        "print(queryResults)"
      ],
      "execution_count": 0,
      "outputs": [
        {
          "output_type": "stream",
          "text": [
            "       BIKE  Probability(BIKE)\n",
            "0        No           0.217238\n",
            "1  Not sure           0.256269\n",
            "2       Yes           0.526493\n"
          ],
          "name": "stdout"
        }
      ]
    }
  ]
}
