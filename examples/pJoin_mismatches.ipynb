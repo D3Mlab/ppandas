{
  "nbformat": 4,
  "nbformat_minor": 0,
  "metadata": {
    "colab": {
      "name": "mismatch-Example.ipynb",
      "provenance": [],
      "collapsed_sections": [],
      "toc_visible": true
    },
    "kernelspec": {
      "name": "python3",
      "display_name": "Python 3"
    }
  },
  "cells": [
    {
      "cell_type": "markdown",
      "metadata": {
        "id": "nuwwvrRfJuYn",
        "colab_type": "text"
      },
      "source": [
        "The direct colab link to this notebook is [here](https://colab.research.google.com/github/D3Mlab/ppandas/blob/master/examples/pJoin_mismatches.ipynb).\n",
        "\n",
        "The datasets used can be found [here](https://github.com/D3Mlab/ppandas/tree/master/tests/testing)."
      ]
    },
    {
      "cell_type": "markdown",
      "metadata": {
        "id": "jqfTWZy6b1BG",
        "colab_type": "text"
      },
      "source": [
        "# Installing pre-requisites and ppandas"
      ]
    },
    {
      "cell_type": "code",
      "metadata": {
        "id": "sh1EuLkmj68N",
        "colab_type": "code",
        "outputId": "cf6f880a-3899-4147-ff59-3e4bde4a7bf2",
        "colab": {
          "base_uri": "https://localhost:8080/",
          "height": 244
        }
      },
      "source": [
        "!pip install -i https://test.pypi.org/simple/ PPandas==0.0.1.6.9\n",
        "!pip install pgmpy==0.1.9\n",
        "!pip install networkx==2.4\n",
        "!pip install matplotlib\n",
        "!pip install python-intervals\n",
        "import pandas as pd\n",
        "from ppandas import PDataFrame"
      ],
      "execution_count": 0,
      "outputs": [
        {
          "output_type": "stream",
          "text": [
            "Looking in indexes: https://test.pypi.org/simple/\n",
            "Collecting PPandas==0.0.1.6.7\n",
            "  Downloading https://test-files.pythonhosted.org/packages/10/9b/e9339c71f0d820977064f2a8332c87d57ac0a70ebb7d0c4d54cae946bd20/PPandas-0.0.1.6.7-py3-none-any.whl\n",
            "Installing collected packages: PPandas\n",
            "  Found existing installation: PPandas 0.0.1.6.6\n",
            "    Uninstalling PPandas-0.0.1.6.6:\n",
            "      Successfully uninstalled PPandas-0.0.1.6.6\n",
            "Successfully installed PPandas-0.0.1.6.7\n"
          ],
          "name": "stdout"
        },
        {
          "output_type": "display_data",
          "data": {
            "application/vnd.colab-display-data+json": {
              "pip_warning": {
                "packages": [
                  "ppandas"
                ]
              }
            }
          },
          "metadata": {
            "tags": []
          }
        }
      ]
    },
    {
      "cell_type": "markdown",
      "metadata": {
        "id": "TiDfcJ8K0RvW",
        "colab_type": "text"
      },
      "source": [
        "#**Spatial mismatch handling example**\n",
        "### Reference dataframe uses polygons and secondary dataframe uses points"
      ]
    },
    {
      "cell_type": "code",
      "metadata": {
        "id": "rutoYo7B5ezO",
        "colab_type": "code",
        "colab": {}
      },
      "source": [
        "df1 = pd.read_csv(\"testing/spatial-ref-region-point.csv\")\n",
        "df1.rename(columns={\"Region\":\"Location\"},inplace=True)\n",
        "df2_point = pd.read_csv(\"testing/spatial-sec-region-point.csv\",usecols=[\"Point\",\"A\"])\n",
        "df2_point.rename(columns={\"Point\":\"Location\"},inplace=True)\n",
        "\n",
        "pd1 = PDataFrame([\"Location\"],df1)\n",
        "pd2_point = PDataFrame([\"Location\"],df2_point)"
      ],
      "execution_count": 0,
      "outputs": []
    },
    {
      "cell_type": "code",
      "metadata": {
        "id": "VQ8lpuXf-bvu",
        "colab_type": "code",
        "outputId": "66baf782-032a-4e40-df0f-f1bf5abfffec",
        "colab": {
          "base_uri": "https://localhost:8080/",
          "height": 527
        }
      },
      "source": [
        "pd1.visualise(show_tables=True)"
      ],
      "execution_count": 0,
      "outputs": [
        {
          "output_type": "display_data",
          "data": {
            "image/png": "[encoded data removed]",
            "text/plain": [
              "<Figure size 432x288 with 1 Axes>"
            ]
          },
          "metadata": {
            "tags": []
          }
        },
        {
          "output_type": "stream",
          "text": [
            "+-----------------------------------------------+-----+\n",
            "| Location(POLYGON ((0 0, 1 0, 1 1, 0 1, 0 0))) | 0.8 |\n",
            "+-----------------------------------------------+-----+\n",
            "| Location(POLYGON ((0 1, 1 1, 1 2, 0 2, 0 1))) | 0.2 |\n",
            "+-----------------------------------------------+-----+\n",
            "+----------+-----------------------------------------------+-----------------------------------------------+\n",
            "| Location | Location(POLYGON ((0 0, 1 0, 1 1, 0 1, 0 0))) | Location(POLYGON ((0 1, 1 1, 1 2, 0 2, 0 1))) |\n",
            "+----------+-----------------------------------------------+-----------------------------------------------+\n",
            "| A(0)     | 0.375                                         | 1.0                                           |\n",
            "+----------+-----------------------------------------------+-----------------------------------------------+\n",
            "| A(1)     | 0.625                                         | 0.0                                           |\n",
            "+----------+-----------------------------------------------+-----------------------------------------------+\n"
          ],
          "name": "stdout"
        }
      ]
    },
    {
      "cell_type": "code",
      "metadata": {
        "id": "E0nZGeqB-uen",
        "colab_type": "code",
        "outputId": "baf8d2ab-52ad-4172-da4d-d5c78c83552d",
        "colab": {
          "base_uri": "https://localhost:8080/",
          "height": 527
        }
      },
      "source": [
        "pd2_point.visualise(show_tables=True)"
      ],
      "execution_count": 0,
      "outputs": [
        {
          "output_type": "display_data",
          "data": {
            "image/png": "[encoded data removed]",
            "text/plain": [
              "<Figure size 432x288 with 1 Axes>"
            ]
          },
          "metadata": {
            "tags": []
          }
        },
        {
          "output_type": "stream",
          "text": [
            "+---------------------------+-----+\n",
            "| Location(POINT (0.5 0.5)) | 0.5 |\n",
            "+---------------------------+-----+\n",
            "| Location(POINT (0.5 1.5)) | 0.5 |\n",
            "+---------------------------+-----+\n",
            "+----------+---------------------------+---------------------------+\n",
            "| Location | Location(POINT (0.5 0.5)) | Location(POINT (0.5 1.5)) |\n",
            "+----------+---------------------------+---------------------------+\n",
            "| A(0)     | 0.6                       | 0.2                       |\n",
            "+----------+---------------------------+---------------------------+\n",
            "| A(1)     | 0.4                       | 0.8                       |\n",
            "+----------+---------------------------+---------------------------+\n"
          ],
          "name": "stdout"
        }
      ]
    },
    {
      "cell_type": "code",
      "metadata": {
        "id": "Eh-UNm-VByA_",
        "colab_type": "code",
        "colab": {}
      },
      "source": [
        "pd_join = pd1.pjoin(pd2_point, mismatches={\"Location\":\"spatial\"})"
      ],
      "execution_count": 0,
      "outputs": []
    },
    {
      "cell_type": "code",
      "metadata": {
        "id": "qXJBPMp3B4o5",
        "colab_type": "code",
        "outputId": "df1dc6ca-0e1d-42e9-f11f-f2df093e520e",
        "colab": {
          "base_uri": "https://localhost:8080/",
          "height": 527
        }
      },
      "source": [
        "pd_join.visualise(show_tables=True)"
      ],
      "execution_count": 0,
      "outputs": [
        {
          "output_type": "display_data",
          "data": {
            "image/png": "[encoded data removed]",
            "text/plain": [
              "<Figure size 432x288 with 1 Axes>"
            ]
          },
          "metadata": {
            "tags": []
          }
        },
        {
          "output_type": "stream",
          "text": [
            "+-----------------------------------------------+-----+\n",
            "| Location(POLYGON ((0 0, 1 0, 1 1, 0 1, 0 0))) | 0.8 |\n",
            "+-----------------------------------------------+-----+\n",
            "| Location(POLYGON ((0 1, 1 1, 1 2, 0 2, 0 1))) | 0.2 |\n",
            "+-----------------------------------------------+-----+\n",
            "+----------+-----------------------------------------------+-----------------------------------------------+\n",
            "| Location | Location(POLYGON ((0 0, 1 0, 1 1, 0 1, 0 0))) | Location(POLYGON ((0 1, 1 1, 1 2, 0 2, 0 1))) |\n",
            "+----------+-----------------------------------------------+-----------------------------------------------+\n",
            "| A(0)     | 0.4875                                        | 0.6                                           |\n",
            "+----------+-----------------------------------------------+-----------------------------------------------+\n",
            "| A(1)     | 0.5125                                        | 0.4                                           |\n",
            "+----------+-----------------------------------------------+-----------------------------------------------+\n"
          ],
          "name": "stdout"
        }
      ]
    },
    {
      "cell_type": "code",
      "metadata": {
        "id": "w2MfcZ-fCCWI",
        "colab_type": "code",
        "outputId": "1c3b8e79-2391-4ca8-dcb3-7f78605a1ae5",
        "colab": {
          "base_uri": "https://localhost:8080/",
          "height": 112
        }
      },
      "source": [
        "queryResult = pd_join.query(['A'],{\"Location\":\"POLYGON ((0 1, 1 1, 1 2, 0 2, 0 1))\"})\n",
        "queryResult"
      ],
      "execution_count": 0,
      "outputs": [
        {
          "output_type": "execute_result",
          "data": {
            "text/html": [
              "<div>\n",
              "<style scoped>\n",
              "    .dataframe tbody tr th:only-of-type {\n",
              "        vertical-align: middle;\n",
              "    }\n",
              "\n",
              "    .dataframe tbody tr th {\n",
              "        vertical-align: top;\n",
              "    }\n",
              "\n",
              "    .dataframe thead th {\n",
              "        text-align: right;\n",
              "    }\n",
              "</style>\n",
              "<table border=\"1\" class=\"dataframe\">\n",
              "  <thead>\n",
              "    <tr style=\"text-align: right;\">\n",
              "      <th></th>\n",
              "      <th>A</th>\n",
              "      <th>Probability(A)</th>\n",
              "    </tr>\n",
              "  </thead>\n",
              "  <tbody>\n",
              "    <tr>\n",
              "      <th>0</th>\n",
              "      <td>0.0</td>\n",
              "      <td>0.6</td>\n",
              "    </tr>\n",
              "    <tr>\n",
              "      <th>1</th>\n",
              "      <td>1.0</td>\n",
              "      <td>0.4</td>\n",
              "    </tr>\n",
              "  </tbody>\n",
              "</table>\n",
              "</div>"
            ],
            "text/plain": [
              "     A  Probability(A)\n",
              "0  0.0             0.6\n",
              "1  1.0             0.4"
            ]
          },
          "metadata": {
            "tags": []
          },
          "execution_count": 8
        }
      ]
    },
    {
      "cell_type": "markdown",
      "metadata": {
        "id": "GdAiEkaM80sq",
        "colab_type": "text"
      },
      "source": [
        "### Reference dataframe uses polygons and secondary dataframe uses two columns  for X,Y coordinates:"
      ]
    },
    {
      "cell_type": "code",
      "metadata": {
        "id": "6qhyaC4487-b",
        "colab_type": "code",
        "colab": {}
      },
      "source": [
        "#df2_x_y is identical to df2_point, except it has the X,Y coordinates in two columns\n",
        "df2_x_y = pd.read_csv(\"testing/spatial-sec-region-point.csv\",usecols=[\"X\",\"Y\",\"A\"])\n",
        "#zip together X and Y to make one Location column\n",
        "df2_x_y['Location'] = list(zip(df2_x_y.X, df2_x_y.Y))\n",
        "df2_x_y.drop(columns=[\"X\",\"Y\"],inplace=True)"
      ],
      "execution_count": 0,
      "outputs": []
    },
    {
      "cell_type": "code",
      "metadata": {
        "id": "OCGQoHc9CIcO",
        "colab_type": "code",
        "colab": {}
      },
      "source": [
        "pd2_x_y = PDataFrame([\"Location\"],df2_x_y)"
      ],
      "execution_count": 0,
      "outputs": []
    },
    {
      "cell_type": "code",
      "metadata": {
        "id": "Lb66rpEHCM9A",
        "colab_type": "code",
        "colab": {}
      },
      "source": [
        "pd_join = pd1.pjoin(pd2_x_y, mismatches={\"Location\":\"spatial\"})"
      ],
      "execution_count": 0,
      "outputs": []
    },
    {
      "cell_type": "code",
      "metadata": {
        "id": "VcEQlO_jCVff",
        "colab_type": "code",
        "colab": {}
      },
      "source": [
        "queryResult = pd_join.query(['A'],{\"Location\":\"POLYGON ((0 1, 1 1, 1 2, 0 2, 0 1))\"})"
      ],
      "execution_count": 0,
      "outputs": []
    },
    {
      "cell_type": "code",
      "metadata": {
        "id": "ZCt4L5wJCXhx",
        "colab_type": "code",
        "outputId": "4235450a-96d2-4e01-f707-dc960f28652b",
        "colab": {
          "base_uri": "https://localhost:8080/",
          "height": 112
        }
      },
      "source": [
        "queryResult"
      ],
      "execution_count": 0,
      "outputs": [
        {
          "output_type": "execute_result",
          "data": {
            "text/html": [
              "<div>\n",
              "<style scoped>\n",
              "    .dataframe tbody tr th:only-of-type {\n",
              "        vertical-align: middle;\n",
              "    }\n",
              "\n",
              "    .dataframe tbody tr th {\n",
              "        vertical-align: top;\n",
              "    }\n",
              "\n",
              "    .dataframe thead th {\n",
              "        text-align: right;\n",
              "    }\n",
              "</style>\n",
              "<table border=\"1\" class=\"dataframe\">\n",
              "  <thead>\n",
              "    <tr style=\"text-align: right;\">\n",
              "      <th></th>\n",
              "      <th>A</th>\n",
              "      <th>Probability(A)</th>\n",
              "    </tr>\n",
              "  </thead>\n",
              "  <tbody>\n",
              "    <tr>\n",
              "      <th>0</th>\n",
              "      <td>0.0</td>\n",
              "      <td>0.6</td>\n",
              "    </tr>\n",
              "    <tr>\n",
              "      <th>1</th>\n",
              "      <td>1.0</td>\n",
              "      <td>0.4</td>\n",
              "    </tr>\n",
              "  </tbody>\n",
              "</table>\n",
              "</div>"
            ],
            "text/plain": [
              "     A  Probability(A)\n",
              "0  0.0             0.6\n",
              "1  1.0             0.4"
            ]
          },
          "metadata": {
            "tags": []
          },
          "execution_count": 13
        }
      ]
    },
    {
      "cell_type": "markdown",
      "metadata": {
        "id": "dfE4GObYCpZ9",
        "colab_type": "text"
      },
      "source": [
        "### Reference dataframe uses polygons and secondary dataframe uses polygons"
      ]
    },
    {
      "cell_type": "code",
      "metadata": {
        "id": "QAcUyGVMDjxo",
        "colab_type": "code",
        "colab": {}
      },
      "source": [
        "df1 = pd.read_csv(\"testing/spatial-ref-region-region.csv\")\n",
        "df2 = pd.read_csv(\"testing/spatial-sec-region-region.csv\")\n",
        "pd1 = PDataFrame([\"Region\"],df1)\n",
        "pd2 = PDataFrame([\"Region\"],df2)"
      ],
      "execution_count": 0,
      "outputs": []
    },
    {
      "cell_type": "code",
      "metadata": {
        "id": "V8llpNbQFRb1",
        "colab_type": "code",
        "outputId": "212b93d5-e5c1-4ff3-b19a-86842fba1e1d",
        "colab": {
          "base_uri": "https://localhost:8080/",
          "height": 527
        }
      },
      "source": [
        "pd1.visualise(show_tables=True)"
      ],
      "execution_count": 0,
      "outputs": [
        {
          "output_type": "display_data",
          "data": {
            "image/png": "[encoded data removed]",
            "text/plain": [
              "<Figure size 432x288 with 1 Axes>"
            ]
          },
          "metadata": {
            "tags": []
          }
        },
        {
          "output_type": "stream",
          "text": [
            "+---------------------------------------------------+-----+\n",
            "| Region(POLYGON ((0 0, 1 0, 1 1.5, 0 1.5, 0 0)))   | 0.8 |\n",
            "+---------------------------------------------------+-----+\n",
            "| Region(POLYGON ((0 1.5, 1 1.5, 1 3, 0 3, 0 1.5))) | 0.2 |\n",
            "+---------------------------------------------------+-----+\n",
            "+--------+-------------------------------------------------+---------------------------------------------------+\n",
            "| Region | Region(POLYGON ((0 0, 1 0, 1 1.5, 0 1.5, 0 0))) | Region(POLYGON ((0 1.5, 1 1.5, 1 3, 0 3, 0 1.5))) |\n",
            "+--------+-------------------------------------------------+---------------------------------------------------+\n",
            "| A(0)   | 0.375                                           | 1.0                                               |\n",
            "+--------+-------------------------------------------------+---------------------------------------------------+\n",
            "| A(1)   | 0.625                                           | 0.0                                               |\n",
            "+--------+-------------------------------------------------+---------------------------------------------------+\n"
          ],
          "name": "stdout"
        }
      ]
    },
    {
      "cell_type": "code",
      "metadata": {
        "id": "HH9xMWK8FT0p",
        "colab_type": "code",
        "outputId": "6ba3d18f-ed61-4acf-9943-1e90a9ec136c",
        "colab": {
          "base_uri": "https://localhost:8080/",
          "height": 562
        }
      },
      "source": [
        "pd2.visualise(show_tables=True)"
      ],
      "execution_count": 0,
      "outputs": [
        {
          "output_type": "display_data",
          "data": {
            "image/png": "[encoded data removed]",
            "text/plain": [
              "<Figure size 432x288 with 1 Axes>"
            ]
          },
          "metadata": {
            "tags": []
          }
        },
        {
          "output_type": "stream",
          "text": [
            "+---------------------------------------------+-----+\n",
            "| Region(POLYGON ((0 0, 1 0, 1 1, 0 1, 0 0))) | 0.5 |\n",
            "+---------------------------------------------+-----+\n",
            "| Region(POLYGON ((0 1, 1 1, 1 2, 0 2, 0 1))) | 0.3 |\n",
            "+---------------------------------------------+-----+\n",
            "| Region(POLYGON ((0 2, 1 2, 1 3, 0 3, 0 2))) | 0.2 |\n",
            "+---------------------------------------------+-----+\n",
            "+--------+---------------------------------------------+---------------------------------------------+---------------------------------------------+\n",
            "| Region | Region(POLYGON ((0 0, 1 0, 1 1, 0 1, 0 0))) | Region(POLYGON ((0 1, 1 1, 1 2, 0 2, 0 1))) | Region(POLYGON ((0 2, 1 2, 1 3, 0 3, 0 2))) |\n",
            "+--------+---------------------------------------------+---------------------------------------------+---------------------------------------------+\n",
            "| A(0)   | 0.6                                         | 0.0                                         | 0.5                                         |\n",
            "+--------+---------------------------------------------+---------------------------------------------+---------------------------------------------+\n",
            "| A(1)   | 0.4                                         | 1.0                                         | 0.5                                         |\n",
            "+--------+---------------------------------------------+---------------------------------------------+---------------------------------------------+\n"
          ],
          "name": "stdout"
        }
      ]
    },
    {
      "cell_type": "code",
      "metadata": {
        "id": "kCRHqBMyDw4w",
        "colab_type": "code",
        "outputId": "4a7bee14-f3b3-44e9-c518-7d828a7d3176",
        "colab": {
          "base_uri": "https://localhost:8080/",
          "height": 617
        }
      },
      "source": [
        "pd_join = pd1.pjoin(pd2, mismatches={\"Region\":\"spatial\"})\n",
        "pd_join.visualise(show_tables=True)"
      ],
      "execution_count": 0,
      "outputs": [
        {
          "output_type": "display_data",
          "data": {
            "image/png": "[encoded data removed]",
            "text/plain": [
              "<Figure size 432x288 with 1 Axes>"
            ]
          },
          "metadata": {
            "tags": []
          }
        },
        {
          "output_type": "stream",
          "text": [
            "+---------------------------------------------------+-----------+\n",
            "| Region(POLYGON ((1 0, 0 0, 0 1, 1 1, 1 0)))       | 0.533333  |\n",
            "+---------------------------------------------------+-----------+\n",
            "| Region(POLYGON ((1 1.5, 1 1, 0 1, 0 1.5, 1 1.5))) | 0.266667  |\n",
            "+---------------------------------------------------+-----------+\n",
            "| Region(POLYGON ((1 1.5, 0 1.5, 0 2, 1 2, 1 1.5))) | 0.0666667 |\n",
            "+---------------------------------------------------+-----------+\n",
            "| Region(POLYGON ((1 3, 1 2, 0 2, 0 3, 1 3)))       | 0.133333  |\n",
            "+---------------------------------------------------+-----------+\n",
            "+--------+---------------------------------------------+---------------------------------------------------+---------------------------------------------------+---------------------------------------------+\n",
            "| Region | Region(POLYGON ((1 0, 0 0, 0 1, 1 1, 1 0))) | Region(POLYGON ((1 1.5, 1 1, 0 1, 0 1.5, 1 1.5))) | Region(POLYGON ((1 1.5, 0 1.5, 0 2, 1 2, 1 1.5))) | Region(POLYGON ((1 3, 1 2, 0 2, 0 3, 1 3))) |\n",
            "+--------+---------------------------------------------+---------------------------------------------------+---------------------------------------------------+---------------------------------------------+\n",
            "| A(0)   | 0.4875                                      | 0.1875                                            | 0.5                                               | 0.75                                        |\n",
            "+--------+---------------------------------------------+---------------------------------------------------+---------------------------------------------------+---------------------------------------------+\n",
            "| A(1)   | 0.5125                                      | 0.8125                                            | 0.5                                               | 0.25                                        |\n",
            "+--------+---------------------------------------------+---------------------------------------------------+---------------------------------------------------+---------------------------------------------+\n"
          ],
          "name": "stdout"
        }
      ]
    },
    {
      "cell_type": "code",
      "metadata": {
        "id": "yamXmveUD0VI",
        "colab_type": "code",
        "colab": {}
      },
      "source": [
        "queryResult = pd_join.query(['A'],{\"Region\":\"POLYGON ((0 0, 1 0, 1 1.5, 0 1.5, 0 0))\"})"
      ],
      "execution_count": 0,
      "outputs": []
    },
    {
      "cell_type": "code",
      "metadata": {
        "id": "3oM11LwAFaBy",
        "colab_type": "code",
        "outputId": "ea6bb895-1746-4647-d657-c3143e0ba313",
        "colab": {
          "base_uri": "https://localhost:8080/",
          "height": 112
        }
      },
      "source": [
        "queryResult"
      ],
      "execution_count": 0,
      "outputs": [
        {
          "output_type": "execute_result",
          "data": {
            "text/html": [
              "<div>\n",
              "<style scoped>\n",
              "    .dataframe tbody tr th:only-of-type {\n",
              "        vertical-align: middle;\n",
              "    }\n",
              "\n",
              "    .dataframe tbody tr th {\n",
              "        vertical-align: top;\n",
              "    }\n",
              "\n",
              "    .dataframe thead th {\n",
              "        text-align: right;\n",
              "    }\n",
              "</style>\n",
              "<table border=\"1\" class=\"dataframe\">\n",
              "  <thead>\n",
              "    <tr style=\"text-align: right;\">\n",
              "      <th></th>\n",
              "      <th>A</th>\n",
              "      <th>Probability(A)</th>\n",
              "    </tr>\n",
              "  </thead>\n",
              "  <tbody>\n",
              "    <tr>\n",
              "      <th>0</th>\n",
              "      <td>0.0</td>\n",
              "      <td>0.3875</td>\n",
              "    </tr>\n",
              "    <tr>\n",
              "      <th>1</th>\n",
              "      <td>1.0</td>\n",
              "      <td>0.6125</td>\n",
              "    </tr>\n",
              "  </tbody>\n",
              "</table>\n",
              "</div>"
            ],
            "text/plain": [
              "     A  Probability(A)\n",
              "0  0.0          0.3875\n",
              "1  1.0          0.6125"
            ]
          },
          "metadata": {
            "tags": []
          },
          "execution_count": 20
        }
      ]
    },
    {
      "cell_type": "markdown",
      "metadata": {
        "id": "apWMOoczkH5N",
        "colab_type": "text"
      },
      "source": [
        "#**Numerical mismatch handling example**"
      ]
    },
    {
      "cell_type": "markdown",
      "metadata": {
        "id": "WTbitkmlcmK1",
        "colab_type": "text"
      },
      "source": [
        "Load data"
      ]
    },
    {
      "cell_type": "code",
      "metadata": {
        "id": "rF3pP1bJkD1c",
        "colab_type": "code",
        "colab": {}
      },
      "source": [
        "df1 = pd.read_csv(\"numerical-1.csv\")\n",
        "df2 = pd.read_csv(\"numerical-2.csv\")\n",
        "\n",
        "pd1 = PDataFrame([\"Gender\",\"Age\"],df1)\n",
        "pd2 = PDataFrame([\"Gender\",\"Age\"],df2)"
      ],
      "execution_count": 0,
      "outputs": []
    },
    {
      "cell_type": "code",
      "metadata": {
        "id": "qJRCwqNKlq6n",
        "colab_type": "code",
        "outputId": "3a62e439-93bd-4457-8d53-f49a60a2656e",
        "colab": {
          "base_uri": "https://localhost:8080/",
          "height": 676
        }
      },
      "source": [
        "pd1.visualise(show_tables=True)"
      ],
      "execution_count": 0,
      "outputs": [
        {
          "output_type": "display_data",
          "data": {
            "image/png": "[encoded data removed]",
            "text/plain": [
              "<Figure size 432x288 with 1 Axes>"
            ]
          },
          "metadata": {
            "tags": []
          }
        },
        {
          "output_type": "stream",
          "text": [
            "+--------------+----------+\n",
            "| Age([20,40)) | 0.333333 |\n",
            "+--------------+----------+\n",
            "| Age([40,60)) | 0.333333 |\n",
            "+--------------+----------+\n",
            "| Age([60,80)) | 0.333333 |\n",
            "+--------------+----------+\n",
            "+----------------------+----------------+--------------+----------------+--------------+----------------+--------------+\n",
            "| Age                  | Age([20,40))   | Age([20,40)) | Age([40,60))   | Age([40,60)) | Age([60,80))   | Age([60,80)) |\n",
            "+----------------------+----------------+--------------+----------------+--------------+----------------+--------------+\n",
            "| Gender               | Gender(female) | Gender(male) | Gender(female) | Gender(male) | Gender(female) | Gender(male) |\n",
            "+----------------------+----------------+--------------+----------------+--------------+----------------+--------------+\n",
            "| Gun Control(Against) | 0.5            | 0.5          | 0.5            | 0.5          | 0.5            | 0.5          |\n",
            "+----------------------+----------------+--------------+----------------+--------------+----------------+--------------+\n",
            "| Gun Control(For)     | 0.5            | 0.5          | 0.5            | 0.5          | 0.5            | 0.5          |\n",
            "+----------------------+----------------+--------------+----------------+--------------+----------------+--------------+\n",
            "+----------------+-----+\n",
            "| Gender(female) | 0.5 |\n",
            "+----------------+-----+\n",
            "| Gender(male)   | 0.5 |\n",
            "+----------------+-----+\n"
          ],
          "name": "stdout"
        }
      ]
    },
    {
      "cell_type": "code",
      "metadata": {
        "id": "8BNGhB4AlwGU",
        "colab_type": "code",
        "outputId": "f7005a7f-bc3e-4bd3-9c6c-2c7d82dc0def",
        "colab": {
          "base_uri": "https://localhost:8080/",
          "height": 642
        }
      },
      "source": [
        "pd2.visualise(show_tables=True)"
      ],
      "execution_count": 0,
      "outputs": [
        {
          "output_type": "display_data",
          "data": {
            "image/png": "[encoded data removed]",
            "text/plain": [
              "<Figure size 432x288 with 1 Axes>"
            ]
          },
          "metadata": {
            "tags": []
          }
        },
        {
          "output_type": "stream",
          "text": [
            "+--------------+----------+\n",
            "| Age([20,50)) | 0.333333 |\n",
            "+--------------+----------+\n",
            "| Age([50,80)) | 0.666667 |\n",
            "+--------------+----------+\n",
            "+----------------------+----------------+--------------+----------------+--------------+\n",
            "| Age                  | Age([20,50))   | Age([20,50)) | Age([50,80))   | Age([50,80)) |\n",
            "+----------------------+----------------+--------------+----------------+--------------+\n",
            "| Gender               | Gender(female) | Gender(male) | Gender(female) | Gender(male) |\n",
            "+----------------------+----------------+--------------+----------------+--------------+\n",
            "| Gun Control(Against) | 0.5            | 0.5          | 0.5            | 0.5          |\n",
            "+----------------------+----------------+--------------+----------------+--------------+\n",
            "| Gun Control(For)     | 0.5            | 0.5          | 0.5            | 0.5          |\n",
            "+----------------------+----------------+--------------+----------------+--------------+\n",
            "+----------------+-----+\n",
            "| Gender(female) | 0.5 |\n",
            "+----------------+-----+\n",
            "| Gender(male)   | 0.5 |\n",
            "+----------------+-----+\n"
          ],
          "name": "stdout"
        }
      ]
    },
    {
      "cell_type": "markdown",
      "metadata": {
        "id": "jeO_fYc7cs9e",
        "colab_type": "text"
      },
      "source": [
        "keyword argument mismatch takes in a dictionary with mismtach column names as keys and the type of mismatches as values"
      ]
    },
    {
      "cell_type": "code",
      "metadata": {
        "id": "uJdtrnZnl-qb",
        "colab_type": "code",
        "colab": {}
      },
      "source": [
        "pd_join = pd1.pjoin(pd2,mismatches={\"Age\":'numerical'})"
      ],
      "execution_count": 0,
      "outputs": []
    },
    {
      "cell_type": "code",
      "metadata": {
        "id": "p8B_Wl9novNU",
        "colab_type": "code",
        "outputId": "535d6165-d7f0-4ef3-db8c-798a55c91979",
        "colab": {
          "base_uri": "https://localhost:8080/",
          "height": 710
        }
      },
      "source": [
        "pd_join.visualise(show_tables=True)"
      ],
      "execution_count": 0,
      "outputs": [
        {
          "output_type": "display_data",
          "data": {
            "image/png": "[encoded data removed]",
            "text/plain": [
              "<Figure size 432x288 with 1 Axes>"
            ]
          },
          "metadata": {
            "tags": []
          }
        },
        {
          "output_type": "stream",
          "text": [
            "+--------------+----------+\n",
            "| Age([20,40)) | 0.333333 |\n",
            "+--------------+----------+\n",
            "| Age([40,50)) | 0.166667 |\n",
            "+--------------+----------+\n",
            "| Age([50,60)) | 0.166667 |\n",
            "+--------------+----------+\n",
            "| Age([60,80)) | 0.333333 |\n",
            "+--------------+----------+\n",
            "+----------------+-----+\n",
            "| Gender(female) | 0.5 |\n",
            "+----------------+-----+\n",
            "| Gender(male)   | 0.5 |\n",
            "+----------------+-----+\n",
            "+----------------------+----------------+--------------+----------------+--------------+----------------+--------------+----------------+--------------+\n",
            "| Age                  | Age([20,40))   | Age([20,40)) | Age([40,50))   | Age([40,50)) | Age([50,60))   | Age([50,60)) | Age([60,80))   | Age([60,80)) |\n",
            "+----------------------+----------------+--------------+----------------+--------------+----------------+--------------+----------------+--------------+\n",
            "| Gender               | Gender(female) | Gender(male) | Gender(female) | Gender(male) | Gender(female) | Gender(male) | Gender(female) | Gender(male) |\n",
            "+----------------------+----------------+--------------+----------------+--------------+----------------+--------------+----------------+--------------+\n",
            "| Gun Control(Against) | 0.5            | 0.5          | 0.5            | 0.5          | 0.5            | 0.5          | 0.5            | 0.5          |\n",
            "+----------------------+----------------+--------------+----------------+--------------+----------------+--------------+----------------+--------------+\n",
            "| Gun Control(For)     | 0.5            | 0.5          | 0.5            | 0.5          | 0.5            | 0.5          | 0.5            | 0.5          |\n",
            "+----------------------+----------------+--------------+----------------+--------------+----------------+--------------+----------------+--------------+\n"
          ],
          "name": "stdout"
        }
      ]
    },
    {
      "cell_type": "code",
      "metadata": {
        "id": "LsQHGnO1mCd4",
        "colab_type": "code",
        "colab": {}
      },
      "source": [
        "queryResult = pd_join.query(['Gun Control'],{\"Gender\":'female',\"Age\":'[40,60)'})"
      ],
      "execution_count": 0,
      "outputs": []
    },
    {
      "cell_type": "code",
      "metadata": {
        "id": "uy3YJUSHonL7",
        "colab_type": "code",
        "outputId": "2b397c0d-4070-44df-d654-dbefec217b33",
        "colab": {
          "base_uri": "https://localhost:8080/",
          "height": 111
        }
      },
      "source": [
        "queryResult"
      ],
      "execution_count": 0,
      "outputs": [
        {
          "output_type": "execute_result",
          "data": {
            "text/html": [
              "<div>\n",
              "<style scoped>\n",
              "    .dataframe tbody tr th:only-of-type {\n",
              "        vertical-align: middle;\n",
              "    }\n",
              "\n",
              "    .dataframe tbody tr th {\n",
              "        vertical-align: top;\n",
              "    }\n",
              "\n",
              "    .dataframe thead th {\n",
              "        text-align: right;\n",
              "    }\n",
              "</style>\n",
              "<table border=\"1\" class=\"dataframe\">\n",
              "  <thead>\n",
              "    <tr style=\"text-align: right;\">\n",
              "      <th></th>\n",
              "      <th>Gun Control</th>\n",
              "      <th>Probability(Gun Control)</th>\n",
              "    </tr>\n",
              "  </thead>\n",
              "  <tbody>\n",
              "    <tr>\n",
              "      <th>0</th>\n",
              "      <td>Against</td>\n",
              "      <td>0.5</td>\n",
              "    </tr>\n",
              "    <tr>\n",
              "      <th>1</th>\n",
              "      <td>For</td>\n",
              "      <td>0.5</td>\n",
              "    </tr>\n",
              "  </tbody>\n",
              "</table>\n",
              "</div>"
            ],
            "text/plain": [
              "  Gun Control  Probability(Gun Control)\n",
              "0     Against                       0.5\n",
              "1         For                       0.5"
            ]
          },
          "metadata": {
            "tags": []
          },
          "execution_count": 9
        }
      ]
    },
    {
      "cell_type": "code",
      "metadata": {
        "id": "DUDTr3oipoet",
        "colab_type": "code",
        "colab": {}
      },
      "source": [
        "pd_join2 = pd2.pjoin(pd1, mismatches={'Age':'numerical'})"
      ],
      "execution_count": 0,
      "outputs": []
    },
    {
      "cell_type": "code",
      "metadata": {
        "id": "HDKevhGHpxPK",
        "colab_type": "code",
        "outputId": "d1b545a9-28b8-410c-c751-73013c701753",
        "colab": {
          "base_uri": "https://localhost:8080/",
          "height": 710
        }
      },
      "source": [
        "pd_join2.visualise(show_tables=True)"
      ],
      "execution_count": 0,
      "outputs": [
        {
          "output_type": "display_data",
          "data": {
            "image/png": "[encoded data removed]",
            "text/plain": [
              "<Figure size 432x288 with 1 Axes>"
            ]
          },
          "metadata": {
            "tags": []
          }
        },
        {
          "output_type": "stream",
          "text": [
            "+--------------+----------+\n",
            "| Age([20,40)) | 0.222222 |\n",
            "+--------------+----------+\n",
            "| Age([40,50)) | 0.111111 |\n",
            "+--------------+----------+\n",
            "| Age([50,60)) | 0.222222 |\n",
            "+--------------+----------+\n",
            "| Age([60,80)) | 0.444444 |\n",
            "+--------------+----------+\n",
            "+----------------+-----+\n",
            "| Gender(female) | 0.5 |\n",
            "+----------------+-----+\n",
            "| Gender(male)   | 0.5 |\n",
            "+----------------+-----+\n",
            "+----------------------+----------------+--------------+----------------+--------------+----------------+--------------+----------------+--------------+\n",
            "| Age                  | Age([20,40))   | Age([20,40)) | Age([40,50))   | Age([40,50)) | Age([50,60))   | Age([50,60)) | Age([60,80))   | Age([60,80)) |\n",
            "+----------------------+----------------+--------------+----------------+--------------+----------------+--------------+----------------+--------------+\n",
            "| Gender               | Gender(female) | Gender(male) | Gender(female) | Gender(male) | Gender(female) | Gender(male) | Gender(female) | Gender(male) |\n",
            "+----------------------+----------------+--------------+----------------+--------------+----------------+--------------+----------------+--------------+\n",
            "| Gun Control(Against) | 0.5            | 0.5          | 0.5            | 0.5          | 0.5            | 0.5          | 0.5            | 0.5          |\n",
            "+----------------------+----------------+--------------+----------------+--------------+----------------+--------------+----------------+--------------+\n",
            "| Gun Control(For)     | 0.5            | 0.5          | 0.5            | 0.5          | 0.5            | 0.5          | 0.5            | 0.5          |\n",
            "+----------------------+----------------+--------------+----------------+--------------+----------------+--------------+----------------+--------------+\n"
          ],
          "name": "stdout"
        }
      ]
    },
    {
      "cell_type": "markdown",
      "metadata": {
        "id": "0N5Rn85Lp7f1",
        "colab_type": "text"
      },
      "source": [
        "#**Categorical mismatch handling example**"
      ]
    },
    {
      "cell_type": "code",
      "metadata": {
        "id": "mahy_qO2qBUt",
        "colab_type": "code",
        "colab": {}
      },
      "source": [
        "pd_join3 = pd1.pjoin(pd2, mismatches={'Age':'categorical'})"
      ],
      "execution_count": 0,
      "outputs": []
    },
    {
      "cell_type": "code",
      "metadata": {
        "id": "m3ObdJTfqQ3_",
        "colab_type": "code",
        "outputId": "20684203-8ab0-4bf3-fb30-e97b889f49f6",
        "colab": {
          "base_uri": "https://localhost:8080/",
          "height": 798
        }
      },
      "source": [
        "pd_join3.visualise(show_tables=True)"
      ],
      "execution_count": 0,
      "outputs": [
        {
          "output_type": "display_data",
          "data": {
            "image/png": "[encoded data removed]",
            "text/plain": [
              "<Figure size 432x288 with 1 Axes>"
            ]
          },
          "metadata": {
            "tags": []
          }
        },
        {
          "output_type": "stream",
          "text": [
            "+----------------------+----------+\n",
            "| Age([20,40),[20,50)) | 0.166667 |\n",
            "+----------------------+----------+\n",
            "| Age([20,40),[50,80)) | 0.166667 |\n",
            "+----------------------+----------+\n",
            "| Age([40,60),[20,50)) | 0.166667 |\n",
            "+----------------------+----------+\n",
            "| Age([40,60),[50,80)) | 0.166667 |\n",
            "+----------------------+----------+\n",
            "| Age([60,80),[20,50)) | 0.166667 |\n",
            "+----------------------+----------+\n",
            "| Age([60,80),[50,80)) | 0.166667 |\n",
            "+----------------------+----------+\n",
            "+----------------+-----+\n",
            "| Gender(female) | 0.5 |\n",
            "+----------------+-----+\n",
            "| Gender(male)   | 0.5 |\n",
            "+----------------+-----+\n",
            "+----------------------+----------------------+----------------------+----------------------+----------------------+----------------------+----------------------+----------------------+----------------------+----------------------+----------------------+----------------------+----------------------+\n",
            "| Age                  | Age([20,40),[20,50)) | Age([20,40),[20,50)) | Age([40,60),[20,50)) | Age([40,60),[20,50)) | Age([60,80),[20,50)) | Age([60,80),[20,50)) | Age([20,40),[50,80)) | Age([20,40),[50,80)) | Age([40,60),[50,80)) | Age([40,60),[50,80)) | Age([60,80),[50,80)) | Age([60,80),[50,80)) |\n",
            "+----------------------+----------------------+----------------------+----------------------+----------------------+----------------------+----------------------+----------------------+----------------------+----------------------+----------------------+----------------------+----------------------+\n",
            "| Gender               | Gender(female)       | Gender(male)         | Gender(female)       | Gender(male)         | Gender(female)       | Gender(male)         | Gender(female)       | Gender(male)         | Gender(female)       | Gender(male)         | Gender(female)       | Gender(male)         |\n",
            "+----------------------+----------------------+----------------------+----------------------+----------------------+----------------------+----------------------+----------------------+----------------------+----------------------+----------------------+----------------------+----------------------+\n",
            "| Gun Control(Against) | 0.5                  | 0.5                  | 0.5                  | 0.5                  | 0.5                  | 0.5                  | 0.5                  | 0.5                  | 0.5                  | 0.5                  | 0.5                  | 0.5                  |\n",
            "+----------------------+----------------------+----------------------+----------------------+----------------------+----------------------+----------------------+----------------------+----------------------+----------------------+----------------------+----------------------+----------------------+\n",
            "| Gun Control(For)     | 0.5                  | 0.5                  | 0.5                  | 0.5                  | 0.5                  | 0.5                  | 0.5                  | 0.5                  | 0.5                  | 0.5                  | 0.5                  | 0.5                  |\n",
            "+----------------------+----------------------+----------------------+----------------------+----------------------+----------------------+----------------------+----------------------+----------------------+----------------------+----------------------+----------------------+----------------------+\n"
          ],
          "name": "stdout"
        }
      ]
    }
  ]
}