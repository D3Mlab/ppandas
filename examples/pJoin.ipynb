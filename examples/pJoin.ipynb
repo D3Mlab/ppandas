{
  "nbformat": 4,
  "nbformat_minor": 0,
  "metadata": {
    "colab": {
      "name": "pJoin-Example.ipynb",
      "provenance": [],
      "collapsed_sections": []
    },
    "kernelspec": {
      "name": "python3",
      "display_name": "Python 3"
    }
  },
  "cells": [
    {
      "cell_type": "markdown",
      "metadata": {
        "id": "ZMPOdbfTYanu",
        "colab_type": "text"
      },
      "source": [
        "The direct colab link to this notebook is [here](https://colab.research.google.com/github/D3Mlab/ppandas/blob/master/examples/pJoin.ipynb).\n",
        "\n",
        "The datasets used can be found [here](https://github.com/D3Mlab/ppandas/tree/master/tests/testing)."
      ]
    },
    {
      "cell_type": "markdown",
      "metadata": {
        "id": "YhNQnbEIU7Dt",
        "colab_type": "text"
      },
      "source": [
        "#Install pre-requisites and ppandas"
      ]
    },
    {
      "cell_type": "code",
      "metadata": {
        "id": "ElbZyu5fnAsl",
        "colab_type": "code",
        "outputId": "129d93ca-3876-49a2-c691-c07f7d6b308f",
        "colab": {
          "base_uri": "https://localhost:8080/",
          "height": 244
        }
      },
      "source": [
        "!pip install -i https://test.pypi.org/simple/ PPandas==0.0.1.6.7"
      ],
      "execution_count": 0,
      "outputs": [
        {
          "output_type": "stream",
          "text": [
            "Looking in indexes: https://test.pypi.org/simple/\n",
            "Collecting PPandas==0.0.1.6.7\n",
            "  Downloading https://test-files.pythonhosted.org/packages/10/9b/e9339c71f0d820977064f2a8332c87d57ac0a70ebb7d0c4d54cae946bd20/PPandas-0.0.1.6.7-py3-none-any.whl\n",
            "Installing collected packages: PPandas\n",
            "  Found existing installation: PPandas 0.0.1.6.5\n",
            "    Uninstalling PPandas-0.0.1.6.5:\n",
            "      Successfully uninstalled PPandas-0.0.1.6.5\n",
            "Successfully installed PPandas-0.0.1.6.7\n"
          ],
          "name": "stdout"
        },
        {
          "output_type": "display_data",
          "data": {
            "application/vnd.colab-display-data+json": {
              "pip_warning": {
                "packages": [
                  "ppandas"
                ]
              }
            }
          },
          "metadata": {
            "tags": []
          }
        }
      ]
    },
    {
      "cell_type": "code",
      "metadata": {
        "id": "4asI8c_SnG2_",
        "colab_type": "code",
        "outputId": "bd3b4319-5371-4b24-9a05-2939d5f2ba83",
        "colab": {
          "base_uri": "https://localhost:8080/",
          "height": 225
        }
      },
      "source": [
        "!pip install pgmpy==0.1.9\n",
        "!pip install networkx==2.4\n",
        "!pip install matplotlib\n",
        "!pip install python-intervals"
      ],
      "execution_count": 0,
      "outputs": [
        {
          "output_type": "stream",
          "text": [
            "Requirement already satisfied: pgmpy==0.1.9 in /usr/local/lib/python3.6/dist-packages (0.1.9)\n",
            "Requirement already satisfied: networkx==2.4 in /usr/local/lib/python3.6/dist-packages (2.4)\n",
            "Requirement already satisfied: decorator>=4.3.0 in /usr/local/lib/python3.6/dist-packages (from networkx==2.4) (4.4.1)\n",
            "Requirement already satisfied: matplotlib in /usr/local/lib/python3.6/dist-packages (3.1.2)\n",
            "Requirement already satisfied: numpy>=1.11 in /usr/local/lib/python3.6/dist-packages (from matplotlib) (1.17.5)\n",
            "Requirement already satisfied: python-dateutil>=2.1 in /usr/local/lib/python3.6/dist-packages (from matplotlib) (2.6.1)\n",
            "Requirement already satisfied: kiwisolver>=1.0.1 in /usr/local/lib/python3.6/dist-packages (from matplotlib) (1.1.0)\n",
            "Requirement already satisfied: cycler>=0.10 in /usr/local/lib/python3.6/dist-packages (from matplotlib) (0.10.0)\n",
            "Requirement already satisfied: pyparsing!=2.0.4,!=2.1.2,!=2.1.6,>=2.0.1 in /usr/local/lib/python3.6/dist-packages (from matplotlib) (2.4.6)\n",
            "Requirement already satisfied: six>=1.5 in /usr/local/lib/python3.6/dist-packages (from python-dateutil>=2.1->matplotlib) (1.12.0)\n",
            "Requirement already satisfied: setuptools in /usr/local/lib/python3.6/dist-packages (from kiwisolver>=1.0.1->matplotlib) (42.0.2)\n",
            "Requirement already satisfied: python-intervals in /usr/local/lib/python3.6/dist-packages (1.10.0)\n"
          ],
          "name": "stdout"
        }
      ]
    },
    {
      "cell_type": "code",
      "metadata": {
        "id": "jl9maH8GnCvf",
        "colab_type": "code",
        "colab": {}
      },
      "source": [
        "from pgmpy.models import BayesianModel\n",
        "from ppandas.p_frame import PDataFrame\n",
        "from pgmpy.factors.discrete import TabularCPD\n",
        "import pandas as pd"
      ],
      "execution_count": 0,
      "outputs": []
    },
    {
      "cell_type": "markdown",
      "metadata": {
        "id": "pwmfstnGVCC7",
        "colab_type": "text"
      },
      "source": [
        "#Create test pDataFrames"
      ]
    },
    {
      "cell_type": "markdown",
      "metadata": {
        "id": "l-JBmL19VH2Z",
        "colab_type": "text"
      },
      "source": [
        "PDataFrame takes in 2 arguments: list of independent variables and data in the form of pandas dataFrame"
      ]
    },
    {
      "cell_type": "code",
      "metadata": {
        "id": "Bx39wMW_y8Ai",
        "colab_type": "code",
        "colab": {}
      },
      "source": [
        "df1 = pd.read_csv(\"ab.csv\")\n",
        "df2 = pd.read_csv(\"bc.csv\")\n",
        "df3 = pd.read_csv(\"bc-1.csv\")\n",
        "df4 = pd.read_csv(\"ab-1.csv\")\n",
        "df5 = pd.read_csv(\"a-1.csv\")\n",
        "\n",
        "pd1 = PDataFrame([\"A\"],df1)\n",
        "pd2 = PDataFrame([\"B\"],df2)\n",
        "pd3 = PDataFrame([\"B\"],df3)\n",
        "pd4 = PDataFrame([\"A\"],df4)\n",
        "pd5 = PDataFrame([\"A\"],df5)"
      ],
      "execution_count": 0,
      "outputs": []
    },
    {
      "cell_type": "markdown",
      "metadata": {
        "id": "uUAANMbsVXVu",
        "colab_type": "text"
      },
      "source": [
        "Visualise function can help users to see their models"
      ]
    },
    {
      "cell_type": "code",
      "metadata": {
        "id": "a28aKU9sIEzO",
        "colab_type": "code",
        "outputId": "aaa621be-45df-4bfb-cbc9-25e62956381b",
        "colab": {
          "base_uri": "https://localhost:8080/",
          "height": 527
        }
      },
      "source": [
        "pd1.visualise(show_tables=True)"
      ],
      "execution_count": 0,
      "outputs": [
        {
          "output_type": "display_data",
          "data": {
            "image/png": "[encoded data removed]",
            "text/plain": [
              "<Figure size 432x288 with 1 Axes>"
            ]
          },
          "metadata": {
            "tags": []
          }
        },
        {
          "output_type": "stream",
          "text": [
            "+------+-----+\n",
            "| A(0) | 0.5 |\n",
            "+------+-----+\n",
            "| A(1) | 0.5 |\n",
            "+------+-----+\n",
            "+------+------+------+\n",
            "| A    | A(0) | A(1) |\n",
            "+------+------+------+\n",
            "| B(0) | 0.3  | 0.7  |\n",
            "+------+------+------+\n",
            "| B(1) | 0.7  | 0.3  |\n",
            "+------+------+------+\n"
          ],
          "name": "stdout"
        }
      ]
    },
    {
      "cell_type": "code",
      "metadata": {
        "id": "5kVQpD6KIF2W",
        "colab_type": "code",
        "outputId": "a477aa7c-cd58-4823-a4ed-a11ea81493d3",
        "colab": {
          "base_uri": "https://localhost:8080/",
          "height": 527
        }
      },
      "source": [
        "pd2.visualise(show_tables=True)"
      ],
      "execution_count": 0,
      "outputs": [
        {
          "output_type": "display_data",
          "data": {
            "image/png": "[encoded data removed]",
            "text/plain": [
              "<Figure size 432x288 with 1 Axes>"
            ]
          },
          "metadata": {
            "tags": []
          }
        },
        {
          "output_type": "stream",
          "text": [
            "+------+-----+\n",
            "| B(0) | 0.5 |\n",
            "+------+-----+\n",
            "| B(1) | 0.5 |\n",
            "+------+-----+\n",
            "+------+------+------+\n",
            "| B    | B(0) | B(1) |\n",
            "+------+------+------+\n",
            "| C(0) | 0.4  | 0.5  |\n",
            "+------+------+------+\n",
            "| C(1) | 0.6  | 0.5  |\n",
            "+------+------+------+\n"
          ],
          "name": "stdout"
        }
      ]
    },
    {
      "cell_type": "markdown",
      "metadata": {
        "id": "21xiAWq5Vdb_",
        "colab_type": "text"
      },
      "source": [
        "# Using PJoin"
      ]
    },
    {
      "cell_type": "markdown",
      "metadata": {
        "id": "po9EJTRwVfHO",
        "colab_type": "text"
      },
      "source": [
        "Use reference_pdataframe.pjoin(secondary_pdataframe) to join two pDataFrames"
      ]
    },
    {
      "cell_type": "markdown",
      "metadata": {
        "id": "-3cXoa0OVtRG",
        "colab_type": "text"
      },
      "source": [
        "## Use pd1 as reference data pDataFrame"
      ]
    },
    {
      "cell_type": "code",
      "metadata": {
        "id": "lm7-F9bCq9NN",
        "colab_type": "code",
        "outputId": "f7e4fe52-abef-4558-c4f8-cc781247b96a",
        "colab": {
          "base_uri": "https://localhost:8080/",
          "height": 649
        }
      },
      "source": [
        "#pd1.join(pd2) should be ok\n",
        "\n",
        "pd_join1 = pd1.pjoin(pd2)\n",
        "pd_join1.visualise(show_tables=True)"
      ],
      "execution_count": 0,
      "outputs": [
        {
          "output_type": "display_data",
          "data": {
            "image/png": "[encoded data removed]",
            "text/plain": [
              "<Figure size 432x288 with 1 Axes>"
            ]
          },
          "metadata": {
            "tags": []
          }
        },
        {
          "output_type": "stream",
          "text": [
            "+------+-----+\n",
            "| A(0) | 0.5 |\n",
            "+------+-----+\n",
            "| A(1) | 0.5 |\n",
            "+------+-----+\n",
            "+------+------+------+\n",
            "| B    | B(0) | B(1) |\n",
            "+------+------+------+\n",
            "| C(0) | 0.4  | 0.5  |\n",
            "+------+------+------+\n",
            "| C(1) | 0.6  | 0.5  |\n",
            "+------+------+------+\n",
            "+------+------+------+\n",
            "| A    | A(0) | A(1) |\n",
            "+------+------+------+\n",
            "| B(0) | 0.3  | 0.7  |\n",
            "+------+------+------+\n",
            "| B(1) | 0.7  | 0.3  |\n",
            "+------+------+------+\n"
          ],
          "name": "stdout"
        }
      ]
    },
    {
      "cell_type": "code",
      "metadata": {
        "id": "vaJ2Jdwb3jQQ",
        "colab_type": "code",
        "outputId": "46019257-e2c4-47c4-eee4-ed735964b884",
        "colab": {
          "base_uri": "https://localhost:8080/",
          "height": 34
        }
      },
      "source": [
        "pd_join1.num_of_records"
      ],
      "execution_count": 0,
      "outputs": [
        {
          "output_type": "execute_result",
          "data": {
            "text/plain": [
              "300"
            ]
          },
          "metadata": {
            "tags": []
          },
          "execution_count": 32
        }
      ]
    },
    {
      "cell_type": "markdown",
      "metadata": {
        "id": "VPTb-YOBV4Zw",
        "colab_type": "text"
      },
      "source": [
        "pd2.join(pd1) is illegal because pd2 cannot be used as reference in this case"
      ]
    },
    {
      "cell_type": "code",
      "metadata": {
        "id": "pS_X0t1bJa4a",
        "colab_type": "code",
        "outputId": "df413aca-ea2b-4f9d-d887-42a10132cc1d",
        "colab": {
          "base_uri": "https://localhost:8080/",
          "height": 54
        }
      },
      "source": [
        "try:\n",
        "\tpd_join2 = pd2.pjoin(pd1)\n",
        "except ValueError as e:\n",
        "\tprint(e)"
      ],
      "execution_count": 0,
      "outputs": [
        {
          "output_type": "stream",
          "text": [
            "This join can not be performed since independent variable(s): 'B' in reference distribution are dependent in the second distribution. Please consider dropping these new dependencies or switching reference distribution.\n"
          ],
          "name": "stdout"
        }
      ]
    },
    {
      "cell_type": "markdown",
      "metadata": {
        "id": "_TKbEOecaxxt",
        "colab_type": "text"
      },
      "source": [
        "Joining 2 pDataFrame with the same structure :\n",
        "\n",
        "the child conditional probability is a weighted average of the original two Bayesian Networks."
      ]
    },
    {
      "cell_type": "code",
      "metadata": {
        "id": "3qnGLGKn1EEJ",
        "colab_type": "code",
        "outputId": "f374f080-729a-497e-c32e-ae5da876cd5d",
        "colab": {
          "base_uri": "https://localhost:8080/",
          "height": 527
        }
      },
      "source": [
        "pd3.visualise(show_tables=True)"
      ],
      "execution_count": 0,
      "outputs": [
        {
          "output_type": "display_data",
          "data": {
            "image/png": "[encoded data removed]",
            "text/plain": [
              "<Figure size 432x288 with 1 Axes>"
            ]
          },
          "metadata": {
            "tags": []
          }
        },
        {
          "output_type": "stream",
          "text": [
            "+------+-----+\n",
            "| B(0) | 0.2 |\n",
            "+------+-----+\n",
            "| B(1) | 0.8 |\n",
            "+------+-----+\n",
            "+------+------+------+\n",
            "| B    | B(0) | B(1) |\n",
            "+------+------+------+\n",
            "| C(0) | 0.5  | 0.5  |\n",
            "+------+------+------+\n",
            "| C(1) | 0.5  | 0.5  |\n",
            "+------+------+------+\n"
          ],
          "name": "stdout"
        }
      ]
    },
    {
      "cell_type": "code",
      "metadata": {
        "id": "1M95gCoP3os6",
        "colab_type": "code",
        "outputId": "a406b5d7-2f7a-40c6-f1bc-103544784155",
        "colab": {
          "base_uri": "https://localhost:8080/",
          "height": 34
        }
      },
      "source": [
        "pd3.num_of_records"
      ],
      "execution_count": 0,
      "outputs": [
        {
          "output_type": "execute_result",
          "data": {
            "text/plain": [
              "100"
            ]
          },
          "metadata": {
            "tags": []
          },
          "execution_count": 35
        }
      ]
    },
    {
      "cell_type": "code",
      "metadata": {
        "id": "EdLXhaQgJhIW",
        "colab_type": "code",
        "outputId": "47f07ac0-cbf1-4f78-f1b4-bd6ae28112c5",
        "colab": {
          "base_uri": "https://localhost:8080/",
          "height": 649
        }
      },
      "source": [
        "pd_join3 = pd_join1.pjoin(pd3)\n",
        "pd_join3.visualise(show_tables=True)"
      ],
      "execution_count": 0,
      "outputs": [
        {
          "output_type": "display_data",
          "data": {
            "image/png": "[encoded data removed]",
            "text/plain": [
              "<Figure size 432x288 with 1 Axes>"
            ]
          },
          "metadata": {
            "tags": []
          }
        },
        {
          "output_type": "stream",
          "text": [
            "+------+-----+\n",
            "| A(0) | 0.5 |\n",
            "+------+-----+\n",
            "| A(1) | 0.5 |\n",
            "+------+-----+\n",
            "+------+---------------------+------+\n",
            "| B    | B(0)                | B(1) |\n",
            "+------+---------------------+------+\n",
            "| C(0) | 0.42500000000000004 | 0.5  |\n",
            "+------+---------------------+------+\n",
            "| C(1) | 0.575               | 0.5  |\n",
            "+------+---------------------+------+\n",
            "+------+------+------+\n",
            "| A    | A(0) | A(1) |\n",
            "+------+------+------+\n",
            "| B(0) | 0.3  | 0.7  |\n",
            "+------+------+------+\n",
            "| B(1) | 0.7  | 0.3  |\n",
            "+------+------+------+\n"
          ],
          "name": "stdout"
        }
      ]
    },
    {
      "cell_type": "code",
      "metadata": {
        "id": "u9YML0LR2nUO",
        "colab_type": "code",
        "outputId": "d0170787-ecb6-47a1-d8ae-1544f5d8f7c9",
        "colab": {
          "base_uri": "https://localhost:8080/",
          "height": 527
        }
      },
      "source": [
        "pd4.visualise(show_tables=True)"
      ],
      "execution_count": 0,
      "outputs": [
        {
          "output_type": "display_data",
          "data": {
            "image/png": "[encoded data removed]",
            "text/plain": [
              "<Figure size 432x288 with 1 Axes>"
            ]
          },
          "metadata": {
            "tags": []
          }
        },
        {
          "output_type": "stream",
          "text": [
            "+------+-----+\n",
            "| A(0) | 0.2 |\n",
            "+------+-----+\n",
            "| A(1) | 0.8 |\n",
            "+------+-----+\n",
            "+------+------+------+\n",
            "| A    | A(0) | A(1) |\n",
            "+------+------+------+\n",
            "| B(0) | 0.5  | 0.5  |\n",
            "+------+------+------+\n",
            "| B(1) | 0.5  | 0.5  |\n",
            "+------+------+------+\n"
          ],
          "name": "stdout"
        }
      ]
    },
    {
      "cell_type": "code",
      "metadata": {
        "id": "HK6el_NB4X3R",
        "colab_type": "code",
        "outputId": "3cfa8897-f60d-471e-ddf9-e6017675e0ba",
        "colab": {
          "base_uri": "https://localhost:8080/",
          "height": 34
        }
      },
      "source": [
        "pd4.num_of_records"
      ],
      "execution_count": 0,
      "outputs": [
        {
          "output_type": "execute_result",
          "data": {
            "text/plain": [
              "100"
            ]
          },
          "metadata": {
            "tags": []
          },
          "execution_count": 38
        }
      ]
    },
    {
      "cell_type": "code",
      "metadata": {
        "id": "spdzGv062Ra7",
        "colab_type": "code",
        "outputId": "541658fa-9db2-4fba-8034-d896fdaa21d8",
        "colab": {
          "base_uri": "https://localhost:8080/",
          "height": 649
        }
      },
      "source": [
        "pd_join4 = pd_join1.pjoin(pd4)\n",
        "pd_join4.visualise(show_tables=True)"
      ],
      "execution_count": 0,
      "outputs": [
        {
          "output_type": "display_data",
          "data": {
            "image/png": "[encoded data removed]",
            "text/plain": [
              "<Figure size 432x288 with 1 Axes>"
            ]
          },
          "metadata": {
            "tags": []
          }
        },
        {
          "output_type": "stream",
          "text": [
            "+------+-----+\n",
            "| A(0) | 0.5 |\n",
            "+------+-----+\n",
            "| A(1) | 0.5 |\n",
            "+------+-----+\n",
            "+------+------+------+\n",
            "| B    | B(0) | B(1) |\n",
            "+------+------+------+\n",
            "| C(0) | 0.4  | 0.5  |\n",
            "+------+------+------+\n",
            "| C(1) | 0.6  | 0.5  |\n",
            "+------+------+------+\n",
            "+------+--------------------+--------------------+\n",
            "| A    | A(0)               | A(1)               |\n",
            "+------+--------------------+--------------------+\n",
            "| B(0) | 0.35               | 0.6499999999999999 |\n",
            "+------+--------------------+--------------------+\n",
            "| B(1) | 0.6499999999999999 | 0.35               |\n",
            "+------+--------------------+--------------------+\n"
          ],
          "name": "stdout"
        }
      ]
    },
    {
      "cell_type": "code",
      "metadata": {
        "id": "nlG8FVKT8Rrx",
        "colab_type": "code",
        "outputId": "f6aa05b0-ca44-44ec-ebd4-826509ad529d",
        "colab": {
          "base_uri": "https://localhost:8080/",
          "height": 649
        }
      },
      "source": [
        "pd_join5 = pd4.pjoin(pd_join1)\n",
        "pd_join5.visualise(show_tables = True)"
      ],
      "execution_count": 0,
      "outputs": [
        {
          "output_type": "display_data",
          "data": {
            "image/png": "[encoded data removed]",
            "text/plain": [
              "<Figure size 432x288 with 1 Axes>"
            ]
          },
          "metadata": {
            "tags": []
          }
        },
        {
          "output_type": "stream",
          "text": [
            "+------+-----+\n",
            "| A(0) | 0.2 |\n",
            "+------+-----+\n",
            "| A(1) | 0.8 |\n",
            "+------+-----+\n",
            "+------+------+------+\n",
            "| B    | B(0) | B(1) |\n",
            "+------+------+------+\n",
            "| C(0) | 0.4  | 0.5  |\n",
            "+------+------+------+\n",
            "| C(1) | 0.6  | 0.5  |\n",
            "+------+------+------+\n",
            "+------+--------------------+--------------------+\n",
            "| A    | A(0)               | A(1)               |\n",
            "+------+--------------------+--------------------+\n",
            "| B(0) | 0.35               | 0.6499999999999999 |\n",
            "+------+--------------------+--------------------+\n",
            "| B(1) | 0.6499999999999999 | 0.35               |\n",
            "+------+--------------------+--------------------+\n"
          ],
          "name": "stdout"
        }
      ]
    },
    {
      "cell_type": "markdown",
      "metadata": {
        "id": "m8ZPP0CObXvw",
        "colab_type": "text"
      },
      "source": [
        "# Query"
      ]
    },
    {
      "cell_type": "markdown",
      "metadata": {
        "id": "QFTZ3OOvbZz3",
        "colab_type": "text"
      },
      "source": [
        "Query function takes in a list of the interested variables and an optional argument of array of evidences"
      ]
    },
    {
      "cell_type": "code",
      "metadata": {
        "id": "Vasx9mkywsgA",
        "colab_type": "code",
        "outputId": "5daedb5f-8beb-48e2-f672-34767412d8b1",
        "colab": {
          "base_uri": "https://localhost:8080/",
          "height": 69
        }
      },
      "source": [
        "res = pd_join5.query(['A'])\n",
        "print (res)"
      ],
      "execution_count": 0,
      "outputs": [
        {
          "output_type": "stream",
          "text": [
            "     A  Probability(A)\n",
            "0  0.0             0.2\n",
            "1  1.0             0.8\n"
          ],
          "name": "stdout"
        }
      ]
    },
    {
      "cell_type": "code",
      "metadata": {
        "id": "rVhWB9Z8y178",
        "colab_type": "code",
        "outputId": "f3b51a39-065d-4e7f-bcff-15b7dc39be84",
        "colab": {
          "base_uri": "https://localhost:8080/",
          "height": 986
        }
      },
      "source": [
        "#Replace the marginal distribution of an independent variable node\n",
        "pd5.visualise(show_tables=True)\n",
        "pd_join_6 = pd5.pjoin(pd1)\n",
        "pd_join_6.visualise(show_tables=True)\n",
        "queryResult = pd_join_6.query([\"B\"],evidence_vars={\"A\":0})\n",
        "print(queryResult)\n",
        "print(pd_join_6.num_of_records)"
      ],
      "execution_count": 0,
      "outputs": [
        {
          "output_type": "display_data",
          "data": {
            "image/png": "[encoded data removed]",
            "text/plain": [
              "<Figure size 432x288 with 1 Axes>"
            ]
          },
          "metadata": {
            "tags": []
          }
        },
        {
          "output_type": "stream",
          "text": [
            "+------+-----+\n",
            "| A(0) | 0.2 |\n",
            "+------+-----+\n",
            "| A(1) | 0.8 |\n",
            "+------+-----+\n"
          ],
          "name": "stdout"
        },
        {
          "output_type": "display_data",
          "data": {
            "image/png": "[encoded data removed]",
            "text/plain": [
              "<Figure size 432x288 with 1 Axes>"
            ]
          },
          "metadata": {
            "tags": []
          }
        },
        {
          "output_type": "stream",
          "text": [
            "+------+-----+\n",
            "| A(0) | 0.2 |\n",
            "+------+-----+\n",
            "| A(1) | 0.8 |\n",
            "+------+-----+\n",
            "+------+------+------+\n",
            "| A    | A(0) | A(1) |\n",
            "+------+------+------+\n",
            "| B(0) | 0.3  | 0.7  |\n",
            "+------+------+------+\n",
            "| B(1) | 0.7  | 0.3  |\n",
            "+------+------+------+\n",
            "     B  Probability(B)\n",
            "0  0.0             0.3\n",
            "1  1.0             0.7\n",
            "200\n"
          ],
          "name": "stdout"
        }
      ]
    }
  ]
}
